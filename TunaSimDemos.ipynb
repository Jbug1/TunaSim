{
 "cells": [
  {
   "cell_type": "code",
   "execution_count": null,
   "metadata": {},
   "outputs": [],
   "source": [
    "import numpy as np\n",
    "import pandas as pd\n",
    "from functools import partial\n",
    "from importlib import reload\n",
    "from collections import Counter\n",
    "import copy\n",
    "import matplotlib.pyplot as plt\n",
    "\n",
    "from TunaSims import tuna_sim\n",
    "import funcOb\n",
    "import math_distance\n",
    "import tools\n",
    "\n",
    "import pandas as pd\n",
    "pd.options.mode.chained_assignment = None  # default='warn'"
   ]
  },
  {
   "cell_type": "markdown",
   "metadata": {},
   "source": [
    "Manhattan Similarity Demo"
   ]
  },
  {
   "cell_type": "code",
   "execution_count": null,
   "metadata": {},
   "outputs": [],
   "source": [
    "demo_matches = pd.read_pickle('/Users/jonahpoczobutt/projects/TunaRes/metlinGnps_NIST20_matchedPol/intermediateOutputs/splitMatches/train/10_ppm/chunk_1.pkl')\n",
    "demo_query = demo_matches.iloc[0]['query']\n",
    "demo_target = demo_matches.iloc[0]['target']\n",
    "demo_query_prec = demo_matches.iloc[0]['precquery']\n",
    "demo_target_prec = demo_matches.iloc[0]['prectarget']"
   ]
  },
  {
   "cell_type": "code",
   "execution_count": null,
   "metadata": {},
   "outputs": [],
   "source": [
    "manhattan_tuna = tuna_sim(demo_query,\n",
    "              demo_target,\n",
    "              demo_query_prec,\n",
    "              demo_target_prec,\n",
    "              query_da_thresh = 0.0,\n",
    "              target_da_thresh = 0.0,\n",
    "              dif_a = 1,\n",
    "              dif_b = 1,\n",
    "              unnormed=1)\n",
    "\n",
    "demo_query[:,1] /= sum(demo_query[:,1])\n",
    "demo_target[:,1] /= sum(demo_target[:,1])\n",
    "combined_old = tools.match_peaks_in_spectra(demo_query, demo_target, ms2_da=0.05)\n",
    "manhattan = 1 - tools.sigmoid(math_distance.manhattan_distance(combined_old[:,1], combined_old[:,2]))\n",
    "\n",
    "print(abs(manhattan - manhattan_tuna))"
   ]
  },
  {
   "cell_type": "markdown",
   "metadata": {},
   "source": [
    "Can we recover similarity function from scores and input vectors alone, which training strategies are best?"
   ]
  },
  {
   "cell_type": "markdown",
   "metadata": {},
   "source": [
    "No cleaning manhattan distance"
   ]
  },
  {
   "cell_type": "code",
   "execution_count": null,
   "metadata": {},
   "outputs": [],
   "source": [
    "sims = np.zeros(len(demo_matches))\n",
    "for i in range(len(demo_matches)):\n",
    "\n",
    "    q = demo_matches.iloc[i]['query']\n",
    "    t = demo_matches.iloc[i]['target']\n",
    "\n",
    "    q[:,1] /= sum(q[:,1])\n",
    "    t[:,1] /= sum(t[:,1])\n",
    "    combined = tools.match_peaks_in_spectra(q, t, ms2_da=0.05)\n",
    "    sims[i] = 1- tools.sigmoid(math_distance.manhattan_distance(combined[:,1], combined[:,2]))"
   ]
  },
  {
   "cell_type": "code",
   "execution_count": null,
   "metadata": {},
   "outputs": [],
   "source": [
    "reload(funcOb)\n",
    "train_func = funcOb.func_ob(\n",
    "    name = \"test\",\n",
    "    sim_func = partial(tuna_sim, unnormed = 1),\n",
    "    init_vals= [-2,0.6],\n",
    "    params = ['dif_a','dif_b'],\n",
    "    tol = 0,\n",
    "    lambdas= 1,\n",
    "    max_iter = 1000,\n",
    "    epsilon = 1e-5\n",
    ")\n",
    "\n",
    "train = demo_matches[['query','target','precquery','prectarget']]\n",
    "train['match'] = sims\n",
    "train = train.sample(frac=1)\n",
    "\n",
    "train_func.fit(train)"
   ]
  },
  {
   "cell_type": "code",
   "execution_count": null,
   "metadata": {},
   "outputs": [],
   "source": [
    "train_func.init_vals"
   ]
  },
  {
   "cell_type": "code",
   "execution_count": null,
   "metadata": {},
   "outputs": [],
   "source": [
    "train_func.converged"
   ]
  },
  {
   "cell_type": "code",
   "execution_count": null,
   "metadata": {},
   "outputs": [],
   "source": [
    "train_func.trained_func"
   ]
  },
  {
   "cell_type": "code",
   "execution_count": null,
   "metadata": {},
   "outputs": [],
   "source": [
    "tuna_sim"
   ]
  },
  {
   "cell_type": "code",
   "execution_count": null,
   "metadata": {},
   "outputs": [],
   "source": [
    "from functools import partial"
   ]
  },
  {
   "cell_type": "code",
   "execution_count": null,
   "metadata": {},
   "outputs": [],
   "source": [
    "partial(tuna_sim, unnormed = 1, dif_a = 1)(train.iloc[100]['query'], \n",
    "                                           train.iloc[100]['target'], \n",
    "                                           train.iloc[100]['precquery'], \n",
    "                                           train.iloc[100]['prectarget'])"
   ]
  },
  {
   "cell_type": "code",
   "execution_count": null,
   "metadata": {},
   "outputs": [],
   "source": [
    "train_func.trained_func()(train.iloc[0]['query'], \n",
    "                                           train.iloc[100]['target'], \n",
    "                                           train.iloc[100]['precquery'], \n",
    "                                           train.iloc[100]['prectarget'])"
   ]
  },
  {
   "cell_type": "code",
   "execution_count": null,
   "metadata": {},
   "outputs": [],
   "source": [
    "train.iloc[100]['match']"
   ]
  },
  {
   "cell_type": "code",
   "execution_count": null,
   "metadata": {},
   "outputs": [],
   "source": [
    "epsilon = 1.4901161193847656e-08\n",
    "#epsilon = 0.1\n",
    "init = 0.01\n",
    "insepct_loc = 0\n",
    "\n",
    "upper = partial(tuna_sim, unnormed = 1, dif_a = init + epsilon)(train.iloc[insepct_loc]['query'], \n",
    "                                           train.iloc[insepct_loc]['target'], \n",
    "                                           train.iloc[insepct_loc]['precquery'], \n",
    "                                           train.iloc[insepct_loc]['prectarget'])\n",
    "\n",
    "init = partial(tuna_sim, unnormed = 1, dif_a = init)(train.iloc[insepct_loc]['query'], \n",
    "                                           train.iloc[insepct_loc]['target'], \n",
    "                                           train.iloc[insepct_loc]['precquery'], \n",
    "                                           train.iloc[insepct_loc]['prectarget'])\n",
    "\n",
    "actual = train.iloc[insepct_loc]['match']\n",
    "\n",
    "\n",
    "\n",
    "\n",
    "\n"
   ]
  },
  {
   "cell_type": "code",
   "execution_count": null,
   "metadata": {},
   "outputs": [],
   "source": [
    "gradient = ((upper - actual)**2 - (init - actual)**2)/epsilon"
   ]
  },
  {
   "cell_type": "code",
   "execution_count": null,
   "metadata": {},
   "outputs": [],
   "source": [
    "gradient"
   ]
  },
  {
   "cell_type": "code",
   "execution_count": null,
   "metadata": {},
   "outputs": [],
   "source": []
  }
 ],
 "metadata": {
  "kernelspec": {
   "display_name": "base",
   "language": "python",
   "name": "python3"
  },
  "language_info": {
   "codemirror_mode": {
    "name": "ipython",
    "version": 3
   },
   "file_extension": ".py",
   "mimetype": "text/x-python",
   "name": "python",
   "nbconvert_exporter": "python",
   "pygments_lexer": "ipython3",
   "version": "3.11.7"
  }
 },
 "nbformat": 4,
 "nbformat_minor": 2
}
