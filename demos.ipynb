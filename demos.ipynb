{
 "cells": [
  {
   "cell_type": "code",
   "execution_count": 9,
   "metadata": {},
   "outputs": [],
   "source": [
    "import numpy as np\n",
    "import pandas as pd\n",
    "import matplotlib.pyplot as plt\n",
    "from functools import partial\n",
    "from scipy import stats\n",
    "from scipy.optimize import minimize as mini"
   ]
  },
  {
   "cell_type": "code",
   "execution_count": 76,
   "metadata": {},
   "outputs": [],
   "source": [
    "def tuna_dif_distance(dif,\n",
    "                    a = 0,\n",
    "                    b = 0,\n",
    "                    c = -np.inf,\n",
    "                    d = np.inf,\n",
    "                    e = 0,\n",
    "                    f = 0,\n",
    "                    g = 0,\n",
    "                    h = 0,\n",
    "                    i = 0,\n",
    "                    j = 0,\n",
    "                    k = 0,\n",
    "                    l = 0,\n",
    "                    m = 0,\n",
    "                    n = 0,\n",
    "                    o = 0,\n",
    "                    ):\n",
    "    \"\"\"\n",
    "    function of individual disagreements, sum_disagreement and length \n",
    "    constant and exponential for each\n",
    "    knock-in for each\n",
    "    knock-out for each\n",
    "    Betas for each\n",
    "    interactions for each\n",
    "    \"\"\"\n",
    "    #dif = abs(query-target)\n",
    "\n",
    "    #do these before so we can get interactions with division\n",
    "    #may have to add jitter later\n",
    "    \n",
    "    total_disagreement = np.sum(dif)\n",
    "    ind_disagreements = np.sum(dif**f)\n",
    "    disagreement_length = len(dif)\n",
    "\n",
    "    individuals = middle(a*total_disagreement**b,c,d) + middle(e*ind_disagreements,g,h) + middle(i*disagreement_length**j,k,l)\n",
    "    interactions = m*total_disagreement*ind_disagreements + n*total_disagreement*disagreement_length + o*ind_disagreements*disagreement_length\n",
    "\n",
    "    return individuals + interactions\n",
    "\n",
    "def tuna_plus_distance(dif,\n",
    "                        a = 0,\n",
    "                        b = 0,\n",
    "                        c = 0,\n",
    "                        d = 0,\n",
    "                        e = 0,\n",
    "                        f = 0,\n",
    "                        g = 0,\n",
    "                        h = 0,\n",
    "                        i = 0,\n",
    "                        j = 0,\n",
    "                        k = 0,\n",
    "                        l = 0,\n",
    "                        m = 0,\n",
    "                        n = 0,\n",
    "                        o = 0,\n",
    "                        p = 0,\n",
    "                        q = 0,\n",
    "                        r = 0,\n",
    "                        s = 0,\n",
    "                        t = 0,\n",
    "                        u = 0,\n",
    "                        v = 0,\n",
    "                        w = 0,\n",
    "                        x = 0,\n",
    "                        y = 0,\n",
    "                        z = 0\n",
    "                        ):\n",
    "\n",
    "    merged = query + target\n",
    "    concat = np.concatenate([query, target])\n",
    "    merged_ent = a*stats.entropy(merged)**b\n",
    "    norm_ent = c*scipy.stats.entropy(concat)**d\n",
    "    query_ent = e*stats.entropy(query)**f\n",
    "    target_ent = g*stats.entropy(target)**h\n",
    "    len_merged = i*len(merged)**j\n",
    "    len_concat = k*len(concat)**l\n",
    "\n",
    "\n",
    "    ind_terms = (middle(merged_ent,m,n)\n",
    "                 + middle(norm_ent,o,p)\n",
    "                 + middle(query_ent,q,r)\n",
    "                 + middle(target_ent,s,t)\n",
    "                 + middle(len_merged,u,v)\n",
    "                 + middle(len_concat,w,x)\n",
    "    )\n",
    "                \n",
    "    interactions = y*merged_ent*norm_ent + z*merged_ent*len_merged \n",
    "\n",
    "    return \n"
   ]
  },
  {
   "cell_type": "code",
   "execution_count": 77,
   "metadata": {},
   "outputs": [
    {
     "data": {
      "text/plain": [
       "0"
      ]
     },
     "execution_count": 77,
     "metadata": {},
     "output_type": "execute_result"
    }
   ],
   "source": [
    "def middle(element,lower,upper):\n",
    "    \"\"\" \n",
    "    return middle element\n",
    "    \"\"\"\n",
    "\n",
    "    if element>=lower:\n",
    "        if element<= upper:\n",
    "            return element\n",
    "        else:\n",
    "            return upper\n",
    "    else:\n",
    "        return lower\n",
    "\n",
    "middle(0,0,1)"
   ]
  },
  {
   "cell_type": "markdown",
   "metadata": {},
   "source": [
    "Results for Different Ways of Distributing Interpectral Intensity Difference"
   ]
  },
  {
   "cell_type": "code",
   "execution_count": 78,
   "metadata": {},
   "outputs": [
    {
     "data": {
      "image/png": "[encoded data removed]",
      "text/plain": [
       "<Figure size 432x288 with 1 Axes>"
      ]
     },
     "metadata": {
      "needs_background": "light"
     },
     "output_type": "display_data"
    }
   ],
   "source": [
    "xs=list()\n",
    "scores_1=list()\n",
    "scores_2=list()\n",
    "\n",
    "total_difference = 0.9\n",
    "len_difference = 10\n",
    "max_len = 25\n",
    "\n",
    "func1 = partial(tuna_dif_distance,e=1,f=-1,h=500, i=-3,j=2,k=-800)\n",
    "func2 = partial(tuna_dif_distance,e=1,f=-1,h=500,i=-3,j=2,k=-800)\n",
    "\n",
    "normalize = False\n",
    "\n",
    "for i in range(1,max_len):\n",
    "\n",
    "    xs.append(i)\n",
    "    dif_1 = np.array([1/(x+1) for x in range(i)])\n",
    "    dif_1 = dif_1/sum(dif_1)*total_difference\n",
    "\n",
    "    dif_2 = np.array([total_difference/i for x in range(i)])\n",
    "\n",
    "    if normalize:\n",
    "        scores_1.append(1- 1/func1(dif_1))\n",
    "        scores_2.append(1 - 1/func2(dif_2))\n",
    "    else:\n",
    "        scores_1.append(func1(dif_1))\n",
    "        scores_2.append(func2(dif_2))\n",
    "\n",
    "plt.plot(xs, scores_1, label='descending')\n",
    "plt.plot(xs, scores_2, label='unfiorm')\n",
    "\n",
    "plt.legend()\n",
    "plt.show()"
   ]
  },
  {
   "cell_type": "code",
   "execution_count": 79,
   "metadata": {},
   "outputs": [],
   "source": [
    "def sigmoid(z):\n",
    "    return 1/(1 + np.exp(-z))"
   ]
  },
  {
   "cell_type": "code",
   "execution_count": 168,
   "metadata": {},
   "outputs": [],
   "source": [
    "df_ex = pd.DataFrame({'match':[1 for i in range(10000)],'dif':[dif_1 for i in range(10000)]})"
   ]
  },
  {
   "cell_type": "code",
   "execution_count": 178,
   "metadata": {},
   "outputs": [
    {
     "data": {
      "text/plain": [
       "      fun: 7500.0000073629635\n",
       " hess_inv: <2x2 LbfgsInvHessProduct with dtype=float64>\n",
       "      jac: array([-3.33966455e-01,  9.56164395e+03])\n",
       "  message: 'CONVERGENCE: REL_REDUCTION_OF_F_<=_FACTR*EPSMCH'\n",
       "     nfev: 240\n",
       "      nit: 22\n",
       "     njev: 80\n",
       "   status: 0\n",
       "  success: True\n",
       "        x: array([ 4.99983293e-01, -4.82579369e-10])"
      ]
     },
     "execution_count": 178,
     "metadata": {},
     "output_type": "execute_result"
    }
   ],
   "source": [
    "def objective_ind(x, match,dif,loss_func, reg_func, distance_func):\n",
    "\n",
    "    return loss_func(match - distance_func(dif, x[0], x[1])) + reg_func(x)\n",
    "\n",
    "def objective(x, args, loss_func, reg_func, distance_func):\n",
    "\n",
    "    kwargs = {k:v for k,v in zip(args[0],x)}\n",
    "    return np.sum(args[1].apply(lambda i: loss_func(i['match'] - distance_func(i['dif'],**kwargs)),axis=1) + reg_func(x))\n",
    "\n",
    "objective_ = partial(objective, loss_func = lambda x: x**2, reg_func= lambda x: 1.*sum(np.abs(x)), distance_func=tuna_dif_distance)\n",
    "\n",
    "mini(fun=objective_, x0=[2,3], args=[['a','b'],df_ex], tol=1e-10, method = 'L-BFGS-B')"
   ]
  },
  {
   "cell_type": "code",
   "execution_count": 177,
   "metadata": {},
   "outputs": [
    {
     "data": {
      "text/plain": [
       "3.0"
      ]
     },
     "execution_count": 177,
     "metadata": {},
     "output_type": "execute_result"
    }
   ],
   "source": [
    "tuna_dif_distance(dif_1,**{'a':3})"
   ]
  },
  {
   "cell_type": "code",
   "execution_count": 170,
   "metadata": {},
   "outputs": [
    {
     "data": {
      "text/plain": [
       "      fun: 0.7807324353428582\n",
       " hess_inv: array([[0.41629099, 0.00263132],\n",
       "       [0.00263132, 0.28424669]])\n",
       "      jac: array([-0.35061334,  0.29950449])\n",
       "  message: 'Desired error not necessarily achieved due to precision loss.'\n",
       "     nfev: 315\n",
       "      nit: 2\n",
       "     njev: 101\n",
       "   status: 2\n",
       "  success: False\n",
       "        x: array([ 3.24693326e-01, -5.56334712e-09])"
      ]
     },
     "execution_count": 170,
     "metadata": {},
     "output_type": "execute_result"
    }
   ],
   "source": [
    "def objective_ind_old(x, old_args, loss_func, reg_func):\n",
    "\n",
    "    return loss_func(old_args[0] - tuna_dif_distance(old_args[1], x[0], x[1])) + reg_func(x)\n",
    "\n",
    "objective_ind_old_ = partial(objective_ind_old, loss_func = lambda x: x**2, reg_func= lambda x: 1.*sum(np.abs(x)))\n",
    "mini(fun=objective_ind_old_, x0 = [1,1], args = [1,dif_1],tol=1e-10 )"
   ]
  },
  {
   "cell_type": "code",
   "execution_count": 146,
   "metadata": {},
   "outputs": [
    {
     "ename": "TypeError",
     "evalue": "objective_ind() missing 1 required positional argument: 'dif'",
     "output_type": "error",
     "traceback": [
      "\u001b[1;31m---------------------------------------------------------------------------\u001b[0m",
      "\u001b[1;31mTypeError\u001b[0m                                 Traceback (most recent call last)",
      "\u001b[1;32mc:\\Users\\jonah\\projects\\TunaSim\\demos.ipynb Cell 9\u001b[0m line \u001b[0;36m<cell line: 16>\u001b[1;34m()\u001b[0m\n\u001b[0;32m     <a href='vscode-notebook-cell:/c%3A/Users/jonah/projects/TunaSim/demos.ipynb#X12sZmlsZQ%3D%3D?line=12'>13</a>\u001b[0m         loss \u001b[39m=\u001b[39m func(data\u001b[39m.\u001b[39miloc[index][\u001b[39m'\u001b[39m\u001b[39mmatch\u001b[39m\u001b[39m'\u001b[39m], data\u001b[39m.\u001b[39miloc[index][\u001b[39m'\u001b[39m\u001b[39mquery\u001b[39m\u001b[39m'\u001b[39m], data\u001b[39m.\u001b[39miloc[index][\u001b[39m'\u001b[39m\u001b[39mtarget\u001b[39m\u001b[39m'\u001b[39m])\n\u001b[0;32m     <a href='vscode-notebook-cell:/c%3A/Users/jonah/projects/TunaSim/demos.ipynb#X12sZmlsZQ%3D%3D?line=14'>15</a>\u001b[0m \u001b[39m#objective_ = partial(objective, loss_func = lambda x: x**2, reg_func= lambda x: 0.*sum(abs(x)))\u001b[39;00m\n\u001b[1;32m---> <a href='vscode-notebook-cell:/c%3A/Users/jonah/projects/TunaSim/demos.ipynb#X12sZmlsZQ%3D%3D?line=15'>16</a>\u001b[0m mini(fun\u001b[39m=\u001b[39;49mobjective_ind_, x0 \u001b[39m=\u001b[39;49m [\u001b[39m1\u001b[39;49m,\u001b[39m1\u001b[39;49m], args \u001b[39m=\u001b[39;49m [\u001b[39m1\u001b[39;49m,dif_1],tol\u001b[39m=\u001b[39;49m\u001b[39m1e-10\u001b[39;49m )\n",
      "File \u001b[1;32mc:\\Users\\jonah\\anaconda3\\lib\\site-packages\\scipy\\optimize\\_minimize.py:618\u001b[0m, in \u001b[0;36mminimize\u001b[1;34m(fun, x0, args, method, jac, hess, hessp, bounds, constraints, tol, callback, options)\u001b[0m\n\u001b[0;32m    616\u001b[0m     \u001b[39mreturn\u001b[39;00m _minimize_cg(fun, x0, args, jac, callback, \u001b[39m*\u001b[39m\u001b[39m*\u001b[39moptions)\n\u001b[0;32m    617\u001b[0m \u001b[39melif\u001b[39;00m meth \u001b[39m==\u001b[39m \u001b[39m'\u001b[39m\u001b[39mbfgs\u001b[39m\u001b[39m'\u001b[39m:\n\u001b[1;32m--> 618\u001b[0m     \u001b[39mreturn\u001b[39;00m _minimize_bfgs(fun, x0, args, jac, callback, \u001b[39m*\u001b[39m\u001b[39m*\u001b[39moptions)\n\u001b[0;32m    619\u001b[0m \u001b[39melif\u001b[39;00m meth \u001b[39m==\u001b[39m \u001b[39m'\u001b[39m\u001b[39mnewton-cg\u001b[39m\u001b[39m'\u001b[39m:\n\u001b[0;32m    620\u001b[0m     \u001b[39mreturn\u001b[39;00m _minimize_newtoncg(fun, x0, args, jac, hess, hessp, callback,\n\u001b[0;32m    621\u001b[0m                               \u001b[39m*\u001b[39m\u001b[39m*\u001b[39moptions)\n",
      "File \u001b[1;32mc:\\Users\\jonah\\anaconda3\\lib\\site-packages\\scipy\\optimize\\optimize.py:1201\u001b[0m, in \u001b[0;36m_minimize_bfgs\u001b[1;34m(fun, x0, args, jac, callback, gtol, norm, eps, maxiter, disp, return_all, finite_diff_rel_step, **unknown_options)\u001b[0m\n\u001b[0;32m   1198\u001b[0m \u001b[39mif\u001b[39;00m maxiter \u001b[39mis\u001b[39;00m \u001b[39mNone\u001b[39;00m:\n\u001b[0;32m   1199\u001b[0m     maxiter \u001b[39m=\u001b[39m \u001b[39mlen\u001b[39m(x0) \u001b[39m*\u001b[39m \u001b[39m200\u001b[39m\n\u001b[1;32m-> 1201\u001b[0m sf \u001b[39m=\u001b[39m _prepare_scalar_function(fun, x0, jac, args\u001b[39m=\u001b[39;49margs, epsilon\u001b[39m=\u001b[39;49meps,\n\u001b[0;32m   1202\u001b[0m                               finite_diff_rel_step\u001b[39m=\u001b[39;49mfinite_diff_rel_step)\n\u001b[0;32m   1204\u001b[0m f \u001b[39m=\u001b[39m sf\u001b[39m.\u001b[39mfun\n\u001b[0;32m   1205\u001b[0m myfprime \u001b[39m=\u001b[39m sf\u001b[39m.\u001b[39mgrad\n",
      "File \u001b[1;32mc:\\Users\\jonah\\anaconda3\\lib\\site-packages\\scipy\\optimize\\optimize.py:261\u001b[0m, in \u001b[0;36m_prepare_scalar_function\u001b[1;34m(fun, x0, jac, args, bounds, epsilon, finite_diff_rel_step, hess)\u001b[0m\n\u001b[0;32m    257\u001b[0m     bounds \u001b[39m=\u001b[39m (\u001b[39m-\u001b[39mnp\u001b[39m.\u001b[39minf, np\u001b[39m.\u001b[39minf)\n\u001b[0;32m    259\u001b[0m \u001b[39m# ScalarFunction caches. Reuse of fun(x) during grad\u001b[39;00m\n\u001b[0;32m    260\u001b[0m \u001b[39m# calculation reduces overall function evaluations.\u001b[39;00m\n\u001b[1;32m--> 261\u001b[0m sf \u001b[39m=\u001b[39m ScalarFunction(fun, x0, args, grad, hess,\n\u001b[0;32m    262\u001b[0m                     finite_diff_rel_step, bounds, epsilon\u001b[39m=\u001b[39;49mepsilon)\n\u001b[0;32m    264\u001b[0m \u001b[39mreturn\u001b[39;00m sf\n",
      "File \u001b[1;32mc:\\Users\\jonah\\anaconda3\\lib\\site-packages\\scipy\\optimize\\_differentiable_functions.py:140\u001b[0m, in \u001b[0;36mScalarFunction.__init__\u001b[1;34m(self, fun, x0, args, grad, hess, finite_diff_rel_step, finite_diff_bounds, epsilon)\u001b[0m\n\u001b[0;32m    137\u001b[0m     \u001b[39mself\u001b[39m\u001b[39m.\u001b[39mf \u001b[39m=\u001b[39m fun_wrapped(\u001b[39mself\u001b[39m\u001b[39m.\u001b[39mx)\n\u001b[0;32m    139\u001b[0m \u001b[39mself\u001b[39m\u001b[39m.\u001b[39m_update_fun_impl \u001b[39m=\u001b[39m update_fun\n\u001b[1;32m--> 140\u001b[0m \u001b[39mself\u001b[39;49m\u001b[39m.\u001b[39;49m_update_fun()\n\u001b[0;32m    142\u001b[0m \u001b[39m# Gradient evaluation\u001b[39;00m\n\u001b[0;32m    143\u001b[0m \u001b[39mif\u001b[39;00m callable(grad):\n",
      "File \u001b[1;32mc:\\Users\\jonah\\anaconda3\\lib\\site-packages\\scipy\\optimize\\_differentiable_functions.py:233\u001b[0m, in \u001b[0;36mScalarFunction._update_fun\u001b[1;34m(self)\u001b[0m\n\u001b[0;32m    231\u001b[0m \u001b[39mdef\u001b[39;00m \u001b[39m_update_fun\u001b[39m(\u001b[39mself\u001b[39m):\n\u001b[0;32m    232\u001b[0m     \u001b[39mif\u001b[39;00m \u001b[39mnot\u001b[39;00m \u001b[39mself\u001b[39m\u001b[39m.\u001b[39mf_updated:\n\u001b[1;32m--> 233\u001b[0m         \u001b[39mself\u001b[39;49m\u001b[39m.\u001b[39;49m_update_fun_impl()\n\u001b[0;32m    234\u001b[0m         \u001b[39mself\u001b[39m\u001b[39m.\u001b[39mf_updated \u001b[39m=\u001b[39m \u001b[39mTrue\u001b[39;00m\n",
      "File \u001b[1;32mc:\\Users\\jonah\\anaconda3\\lib\\site-packages\\scipy\\optimize\\_differentiable_functions.py:137\u001b[0m, in \u001b[0;36mScalarFunction.__init__.<locals>.update_fun\u001b[1;34m()\u001b[0m\n\u001b[0;32m    136\u001b[0m \u001b[39mdef\u001b[39;00m \u001b[39mupdate_fun\u001b[39m():\n\u001b[1;32m--> 137\u001b[0m     \u001b[39mself\u001b[39m\u001b[39m.\u001b[39mf \u001b[39m=\u001b[39m fun_wrapped(\u001b[39mself\u001b[39;49m\u001b[39m.\u001b[39;49mx)\n",
      "File \u001b[1;32mc:\\Users\\jonah\\anaconda3\\lib\\site-packages\\scipy\\optimize\\_differentiable_functions.py:134\u001b[0m, in \u001b[0;36mScalarFunction.__init__.<locals>.fun_wrapped\u001b[1;34m(x)\u001b[0m\n\u001b[0;32m    130\u001b[0m \u001b[39mself\u001b[39m\u001b[39m.\u001b[39mnfev \u001b[39m+\u001b[39m\u001b[39m=\u001b[39m \u001b[39m1\u001b[39m\n\u001b[0;32m    131\u001b[0m \u001b[39m# Send a copy because the user may overwrite it.\u001b[39;00m\n\u001b[0;32m    132\u001b[0m \u001b[39m# Overwriting results in undefined behaviour because\u001b[39;00m\n\u001b[0;32m    133\u001b[0m \u001b[39m# fun(self.x) will change self.x, with the two no longer linked.\u001b[39;00m\n\u001b[1;32m--> 134\u001b[0m \u001b[39mreturn\u001b[39;00m fun(np\u001b[39m.\u001b[39;49mcopy(x), \u001b[39m*\u001b[39;49margs)\n",
      "\u001b[1;31mTypeError\u001b[0m: objective_ind() missing 1 required positional argument: 'dif'"
     ]
    }
   ],
   "source": [
    "def custom_grad_descent(func, params, vals, constraints, epsilons, data, max_iter):\n",
    "    \"\"\" \n",
    "    Implement gradient descent for model tuning\n",
    "    func must take: match, query, target\n",
    "    \"\"\"\n",
    "\n",
    "    return 1\n",
    "    i=0\n",
    "    while i<max_iter:\n",
    "\n",
    "        index = i % len(data)\n",
    "\n",
    "        loss = func(data.iloc[index]['match'], data.iloc[index]['query'], data.iloc[index]['target'])\n",
    "\n",
    "#objective_ = partial(objective, loss_func = lambda x: x**2, reg_func= lambda x: 0.*sum(abs(x)))\n",
    "mini(fun=objective_ind_, x0 = [1,1], args = [1,dif_1],tol=1e-10 )\n",
    "\n",
    "\n",
    "\n",
    "\n"
   ]
  },
  {
   "cell_type": "code",
   "execution_count": 131,
   "metadata": {},
   "outputs": [],
   "source": [
    "df_ex = pd.DataFrame([[1,dif_1],[1,dif_1]], columns=['match','dif'])"
   ]
  },
  {
   "cell_type": "code",
   "execution_count": 126,
   "metadata": {},
   "outputs": [
    {
     "ename": "TypeError",
     "evalue": "Cannot index by location index with a non-integer key",
     "output_type": "error",
     "traceback": [
      "\u001b[1;31m---------------------------------------------------------------------------\u001b[0m",
      "\u001b[1;31mTypeError\u001b[0m                                 Traceback (most recent call last)",
      "\u001b[1;32mc:\\Users\\jonah\\projects\\TunaSim\\demos.ipynb Cell 10\u001b[0m line \u001b[0;36m<cell line: 1>\u001b[1;34m()\u001b[0m\n\u001b[1;32m----> <a href='vscode-notebook-cell:/c%3A/Users/jonah/projects/TunaSim/demos.ipynb#X22sZmlsZQ%3D%3D?line=0'>1</a>\u001b[0m objective_([\u001b[39m1\u001b[39;49m,\u001b[39m1\u001b[39;49m],df_ex)\n",
      "\u001b[1;32mc:\\Users\\jonah\\projects\\TunaSim\\demos.ipynb Cell 10\u001b[0m line \u001b[0;36mobjective\u001b[1;34m(x, df, loss_func, reg_func)\u001b[0m\n\u001b[0;32m      <a href='vscode-notebook-cell:/c%3A/Users/jonah/projects/TunaSim/demos.ipynb#X22sZmlsZQ%3D%3D?line=0'>1</a>\u001b[0m \u001b[39mdef\u001b[39;00m \u001b[39mobjective\u001b[39m(x, df, loss_func, reg_func):\n\u001b[1;32m----> <a href='vscode-notebook-cell:/c%3A/Users/jonah/projects/TunaSim/demos.ipynb#X22sZmlsZQ%3D%3D?line=3'>4</a>\u001b[0m     \u001b[39mreturn\u001b[39;00m loss_func( df\u001b[39m.\u001b[39;49miloc[\u001b[39m'\u001b[39;49m\u001b[39mmatch\u001b[39;49m\u001b[39m'\u001b[39;49m] \u001b[39m-\u001b[39m tuna_dif_distance(df\u001b[39m.\u001b[39miloc[\u001b[39m'\u001b[39m\u001b[39mdif\u001b[39m\u001b[39m'\u001b[39m], x[\u001b[39m0\u001b[39m], x[\u001b[39m1\u001b[39m])) \u001b[39m+\u001b[39m reg_func(x)\n",
      "File \u001b[1;32mc:\\Users\\jonah\\anaconda3\\lib\\site-packages\\pandas\\core\\indexing.py:967\u001b[0m, in \u001b[0;36m_LocationIndexer.__getitem__\u001b[1;34m(self, key)\u001b[0m\n\u001b[0;32m    964\u001b[0m axis \u001b[39m=\u001b[39m \u001b[39mself\u001b[39m\u001b[39m.\u001b[39maxis \u001b[39mor\u001b[39;00m \u001b[39m0\u001b[39m\n\u001b[0;32m    966\u001b[0m maybe_callable \u001b[39m=\u001b[39m com\u001b[39m.\u001b[39mapply_if_callable(key, \u001b[39mself\u001b[39m\u001b[39m.\u001b[39mobj)\n\u001b[1;32m--> 967\u001b[0m \u001b[39mreturn\u001b[39;00m \u001b[39mself\u001b[39;49m\u001b[39m.\u001b[39;49m_getitem_axis(maybe_callable, axis\u001b[39m=\u001b[39;49maxis)\n",
      "File \u001b[1;32mc:\\Users\\jonah\\anaconda3\\lib\\site-packages\\pandas\\core\\indexing.py:1517\u001b[0m, in \u001b[0;36m_iLocIndexer._getitem_axis\u001b[1;34m(self, key, axis)\u001b[0m\n\u001b[0;32m   1515\u001b[0m key \u001b[39m=\u001b[39m item_from_zerodim(key)\n\u001b[0;32m   1516\u001b[0m \u001b[39mif\u001b[39;00m \u001b[39mnot\u001b[39;00m is_integer(key):\n\u001b[1;32m-> 1517\u001b[0m     \u001b[39mraise\u001b[39;00m \u001b[39mTypeError\u001b[39;00m(\u001b[39m\"\u001b[39m\u001b[39mCannot index by location index with a non-integer key\u001b[39m\u001b[39m\"\u001b[39m)\n\u001b[0;32m   1519\u001b[0m \u001b[39m# validate the location\u001b[39;00m\n\u001b[0;32m   1520\u001b[0m \u001b[39mself\u001b[39m\u001b[39m.\u001b[39m_validate_integer(key, axis)\n",
      "\u001b[1;31mTypeError\u001b[0m: Cannot index by location index with a non-integer key"
     ]
    }
   ],
   "source": [
    "objective_([1,1],df_ex)"
   ]
  },
  {
   "cell_type": "code",
   "execution_count": 118,
   "metadata": {},
   "outputs": [
    {
     "ename": "TypeError",
     "evalue": "bad operand type for abs(): 'list'",
     "output_type": "error",
     "traceback": [
      "\u001b[1;31m---------------------------------------------------------------------------\u001b[0m",
      "\u001b[1;31mTypeError\u001b[0m                                 Traceback (most recent call last)",
      "\u001b[1;32mc:\\Users\\jonah\\projects\\TunaSim\\demos.ipynb Cell 13\u001b[0m line \u001b[0;36m<cell line: 2>\u001b[1;34m()\u001b[0m\n\u001b[0;32m      <a href='vscode-notebook-cell:/c%3A/Users/jonah/projects/TunaSim/demos.ipynb#X23sZmlsZQ%3D%3D?line=0'>1</a>\u001b[0m a\u001b[39m=\u001b[39m[\u001b[39m1\u001b[39m,\u001b[39m-\u001b[39m\u001b[39m1\u001b[39m]\n\u001b[1;32m----> <a href='vscode-notebook-cell:/c%3A/Users/jonah/projects/TunaSim/demos.ipynb#X23sZmlsZQ%3D%3D?line=1'>2</a>\u001b[0m \u001b[39mabs\u001b[39;49m(a)\n",
      "\u001b[1;31mTypeError\u001b[0m: bad operand type for abs(): 'list'"
     ]
    }
   ],
   "source": []
  },
  {
   "cell_type": "code",
   "execution_count": null,
   "metadata": {},
   "outputs": [],
   "source": []
  }
 ],
 "metadata": {
  "kernelspec": {
   "display_name": "base",
   "language": "python",
   "name": "python3"
  },
  "language_info": {
   "codemirror_mode": {
    "name": "ipython",
    "version": 3
   },
   "file_extension": ".py",
   "mimetype": "text/x-python",
   "name": "python",
   "nbconvert_exporter": "python",
   "pygments_lexer": "ipython3",
   "version": "3.9.12"
  }
 },
 "nbformat": 4,
 "nbformat_minor": 2
}
