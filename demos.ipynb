{
 "cells": [
  {
   "cell_type": "code",
   "execution_count": 78,
   "metadata": {},
   "outputs": [],
   "source": [
    "import numpy as np\n",
    "import pandas as pd\n",
    "import matplotlib.pyplot as plt\n",
    "from functools import partial\n",
    "from importlib import reload\n",
    "import os\n",
    "from collections import Counter\n",
    "\n",
    "import TunaSims\n",
    "import func_ob\n",
    "import tools\n",
    "import datasetBuilder"
   ]
  },
  {
   "cell_type": "markdown",
   "metadata": {},
   "source": [
    "Results for Different Ways of Distributing Interspectral Intensity Difference"
   ]
  },
  {
   "cell_type": "code",
   "execution_count": 2,
   "metadata": {},
   "outputs": [
    {
     "data": {
      "image/png": "[encoded data removed]",
      "text/plain": [
       "<Figure size 640x480 with 1 Axes>"
      ]
     },
     "metadata": {},
     "output_type": "display_data"
    }
   ],
   "source": [
    "xs=list()\n",
    "scores_1=list()\n",
    "scores_2=list()\n",
    "\n",
    "total_difference = 0.9\n",
    "len_difference = 10\n",
    "max_len = 25\n",
    "\n",
    "func1 = partial(TunaSims.tuna_dif_distance,e=1,f=-1,h=500, i=-3,j=2,k=-800)\n",
    "func2 = partial(TunaSims.tuna_dif_distance,e=1,f=-1,h=500,i=-3,j=2,k=-800)\n",
    "\n",
    "normalize = False\n",
    "\n",
    "for i in range(1,max_len):\n",
    "\n",
    "    xs.append(i)\n",
    "    dif_1 = np.array([1/(x+1) for x in range(i)])\n",
    "    dif_1 = dif_1/sum(dif_1)*total_difference\n",
    "\n",
    "    dif_2 = np.array([total_difference/i for x in range(i)])\n",
    "\n",
    "    if normalize:\n",
    "        scores_1.append(1- 1/func1(dif_1))\n",
    "        scores_2.append(1 - 1/func2(dif_2))\n",
    "    else:\n",
    "        scores_1.append(func1(dif_1, np.zeros(len(dif_1))))\n",
    "        scores_2.append(func2(dif_2, np.zeros(len(dif_2))))\n",
    "\n",
    "plt.plot(xs, scores_1, label='descending')\n",
    "plt.plot(xs, scores_2, label='unfiorm')\n",
    "\n",
    "plt.legend()\n",
    "plt.show()"
   ]
  },
  {
   "cell_type": "code",
   "execution_count": 3,
   "metadata": {},
   "outputs": [],
   "source": [
    "#helper lambda funcs\n",
    "squared_loss = lambda x: x**2\n",
    "lin_loss = lambda x: x\n",
    "l1_reg = lambda l,x: l*sum(np.abs(x))\n",
    "l2_reg = lambda l,x: l*sum(x**2)\n",
    "\n",
    "#databases\n",
    "outputs_path='/Users/jonahpoczobutt/projects/TunaRes/testy'\n",
    "nist14='/Users/jonahpoczobutt/projects/raw_data/db_csvs/nist14_highres.pkl'\n",
    "nist20_prot_deprot = '/Users/jonahpoczobutt/projects/raw_data/db_csvs/nist20_prot_deprot.pkl'\n",
    "nist23_hr_prot_deprot_only = '/Users/jonahpoczobutt/projects/raw_data/db_csvs/nist23_prot_deprot_only.pkl'\n",
    "nist23_hr_full ='/Users/jonahpoczobutt/projects/raw_data/db_csvs/nist23_full.pkl'\n",
    "gnps='/Users/jonahpoczobutt/projects/raw_data/db_csvs/gnps_highres.pkl'\n",
    "mona='/Users/jonahpoczobutt/projects/raw_data/db_csvs/mona_highres.pkl'\n",
    "metlin='/Users/jonahpoczobutt/projects/raw_data/db_csvs/metlin_highres_inst.pkl'\n",
    "mona_nist = '/Users/jonahpoczobutt/projects/raw_data/db_csvs/mona_nist_prot_only.pkl'\n",
    "\n",
    "self_search=False\n",
    "query = metlin\n",
    "target = nist23_hr_full\n",
    "if self_search:\n",
    "    target=query\n",
    "    \n",
    "fullRun=True\n",
    "if fullRun:\n",
    "    os.mkdir(outputs_path)\n",
    "    os.mkdir(f'{outputs_path}/intermediateOutputs')\n",
    "    os.mkdir(f'{outputs_path}/intermediateOutputs/splitMatches')"
   ]
  },
  {
   "cell_type": "code",
   "execution_count": 4,
   "metadata": {},
   "outputs": [],
   "source": [
    "fullRun=True\n",
    "if fullRun:\n",
    "\n",
    "    #This should be replaced with a function to read in all the databases\n",
    "    query_ = pd.read_pickle(query)\n",
    "    all_bases = list(set(query_['inchi_base']))\n",
    "\n",
    "    if self_search:\n",
    "        query_.insert(0,'queryID', [i for i in range(len(query_))])\n",
    "    else:\n",
    "        query_.insert(0,'queryID', [\"_\" for i in range(len(query_))])\n",
    "\n",
    "    #this method is in place\n",
    "    np.random.shuffle(all_bases)\n",
    "\n",
    "    first_bases = all_bases[:int(len(all_bases)*0.5)]\n",
    "    second_bases = all_bases[int(len(all_bases)*0.5):int(len(all_bases)*0.7)]\n",
    "    third_bases = all_bases[int(len(all_bases)*0.7):]\n",
    "\n",
    "    first_query_ = query_[np.isin(query_['inchi_base'],first_bases)]\n",
    "    first_query_.reset_index(inplace=True)\n",
    "    first_query_.to_pickle(f'{outputs_path}/intermediateOutputs/splitMatches/first_query.pkl')\n",
    "    del(first_query_)\n",
    "\n",
    "    second_query_ = query_[np.isin(query_['inchi_base'],second_bases)]\n",
    "    second_query_.reset_index(inplace=True)\n",
    "    second_query_.to_pickle(f'{outputs_path}/intermediateOutputs/splitMatches/second_query.pkl')\n",
    "    del(second_query_)\n",
    "\n",
    "    third_query_ = query_[np.isin(query_['inchi_base'],third_bases)]\n",
    "    third_query_.reset_index(inplace=True)\n",
    "    third_query_.to_pickle(f'{outputs_path}/intermediateOutputs/splitMatches/third_query.pkl')\n",
    "    del(third_query_)\n",
    "    del(query_)\n",
    "\n",
    "    \n",
    "    np.save(f'{outputs_path}/intermediateOutputs/splitMatches/first_bases.npy',first_bases)\n",
    "    np.save(f'{outputs_path}/intermediateOutputs/splitMatches/second_bases.npy',second_bases)\n",
    "    np.save(f'{outputs_path}/intermediateOutputs/splitMatches/third_bases.npy',third_bases)\n",
    "    del(first_bases)\n",
    "    del(second_bases)\n",
    "    del(third_bases)\n",
    "    del(all_bases)\n"
   ]
  },
  {
   "cell_type": "code",
   "execution_count": 59,
   "metadata": {},
   "outputs": [],
   "source": [
    "reload(func_ob)\n",
    "sim_func = func_ob.func_ob(name='test',\n",
    "                    distance_func = TunaSims.tuna_dif_distance,\n",
    "                    regularization_func = partial(l1_reg,1),\n",
    "                    loss_func=squared_loss,\n",
    "                    init_vals = np.zeros(3),\n",
    "                    params = ['a','b','c'],\n",
    "                    constraints=None,\n",
    "                    solver = 'stoch',\n",
    "                    bounds = None,\n",
    "                    lambdas = 1,\n",
    "                    max_iter = 1e5,\n",
    "                    tol = 1e-10,\n",
    "                    momentum_weights = [0.8,0.2],\n",
    "                    epsilon = 1.4901161193847656e-08,\n",
    "                    momentum_type = None\n",
    ")"
   ]
  },
  {
   "cell_type": "code",
   "execution_count": 54,
   "metadata": {},
   "outputs": [
    {
     "name": "stdout",
     "output_type": "stream",
     "text": [
      "total number of query spectra considered: 7\n",
      "total number of target spectra considered: 362\n",
      "total inchicores seen: 7\n",
      "2 queries went unmatched\n"
     ]
    },
    {
     "name": "stderr",
     "output_type": "stream",
     "text": [
      "/Users/jonahpoczobutt/projects/TunaSim/tools.py:439: RuntimeWarning: divide by zero encountered in log\n",
      "/Users/jonahpoczobutt/projects/TunaSim/tools.py:439: RuntimeWarning: divide by zero encountered in log\n"
     ]
    },
    {
     "name": "stdout",
     "output_type": "stream",
     "text": [
      "added 10 settings\n"
     ]
    },
    {
     "name": "stderr",
     "output_type": "stream",
     "text": [
      "/Users/jonahpoczobutt/projects/TunaSim/tools.py:439: RuntimeWarning: divide by zero encountered in log\n",
      "/Users/jonahpoczobutt/projects/TunaSim/tools.py:439: RuntimeWarning: divide by zero encountered in log\n"
     ]
    }
   ],
   "source": [
    "#Similarity methods and transformation parameters below. Leave sim methods as None to run all\n",
    "reload(datasetBuilder)\n",
    "reload(tools)\n",
    "\n",
    "ppm_windows = [10]\n",
    "\n",
    "noise_threshes=[0.0,0.01]\n",
    "centroid_tolerance_vals = [0.005,0.05]\n",
    "centroid_tolerance_types=['da','da']\n",
    "powers=[None,'orig','logent']\n",
    "sim_methods=['lorentzian','entropy','chi2','fidelity','dot_product','proportional_entropy']\n",
    "prec_removes=[True]\n",
    "\n",
    "\n",
    "train_size=300\n",
    "val_size=1e6\n",
    "test_size=2e6\n",
    "\n",
    "max_matches=None\n",
    "adduct_match = False\n",
    "\n",
    "target_=pd.read_pickle(target)\n",
    "\n",
    "if self_search:\n",
    "    target_.insert(0,'queryID', [i for i in range(len(target_))])\n",
    "else:\n",
    "    target_.insert(0,'queryID', [\"*\" for i in range(len(target_))])\n",
    "\n",
    "for i in ppm_windows:\n",
    "\n",
    "    #read in first bases and shuffle order\n",
    "    query_train = pd.read_pickle(f'{outputs_path}/intermediateOutputs/splitMatches/first_query.pkl')\n",
    "    query_train=query_train.sample(frac=1)\n",
    "\n",
    "    #create matches for model to train on\n",
    "    matches = datasetBuilder.create_matches_df(query_train,target_,i,max_matches,train_size, adduct_match)\n",
    "    del(query_train)\n",
    "\n",
    "    \n",
    "    cleaned = datasetBuilder.create_cleaned_df(\n",
    "                                        matches, \n",
    "                                        sim_methods, \n",
    "                                        noise_threshes, \n",
    "                                        centroid_tolerance_vals, \n",
    "                                        centroid_tolerance_types,\n",
    "                                        powers,\n",
    "                                        prec_removes\n",
    "    )"
   ]
  },
  {
   "cell_type": "code",
   "execution_count": 55,
   "metadata": {},
   "outputs": [],
   "source": [
    "for i in range(len(cleaned)):\n",
    "\n",
    "    if len(cleaned.iloc[i,0])!=len(cleaned.iloc[i,1]):\n",
    "        print('hmm')"
   ]
  },
  {
   "cell_type": "code",
   "execution_count": 56,
   "metadata": {},
   "outputs": [],
   "source": [
    "sub=cleaned.iloc[:,:2]\n",
    "sub.columns=['query','target']\n",
    "sub['match']=cleaned['match']"
   ]
  },
  {
   "cell_type": "code",
   "execution_count": null,
   "metadata": {},
   "outputs": [],
   "source": []
  }
 ],
 "metadata": {
  "kernelspec": {
   "display_name": "base",
   "language": "python",
   "name": "python3"
  },
  "language_info": {
   "codemirror_mode": {
    "name": "ipython",
    "version": 3
   },
   "file_extension": ".py",
   "mimetype": "text/x-python",
   "name": "python",
   "nbconvert_exporter": "python",
   "pygments_lexer": "ipython3",
   "version": "3.11.7"
  }
 },
 "nbformat": 4,
 "nbformat_minor": 2
}
