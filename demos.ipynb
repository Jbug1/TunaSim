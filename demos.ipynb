{
 "cells": [
  {
   "cell_type": "code",
   "execution_count": null,
   "metadata": {},
   "outputs": [],
   "source": [
    "import numpy as np\n",
    "import pandas as pd\n",
    "import matplotlib.pyplot as plt\n",
    "from functools import partial\n",
    "from importlib import reload\n",
    "import os\n",
    "from collections import Counter\n",
    "# import warnings\n",
    "# warnings.filterwarnings(\"ignore\")\n",
    "\n",
    "import TunaSims\n",
    "import func_ob\n",
    "import tools\n",
    "import datasetBuilder\n",
    "import testUtils\n",
    "import spectral_similarity"
   ]
  },
  {
   "cell_type": "markdown",
   "metadata": {},
   "source": [
    "Results for Different Ways of Distributing Interspectral Intensity Difference"
   ]
  },
  {
   "cell_type": "code",
   "execution_count": null,
   "metadata": {},
   "outputs": [],
   "source": [
    "xs=list()\n",
    "scores_1=list()\n",
    "scores_2=list()\n",
    "\n",
    "total_difference = 0.9\n",
    "len_difference = 10\n",
    "max_len = 25\n",
    "\n",
    "func1 = partial(TunaSims.tuna_dif_distance,f=1,g=1,h=2)\n",
    "func2 = partial(TunaSims.tuna_dif_distance,f=1,g=1,h=2)\n",
    "\n",
    "normalize = False\n",
    "\n",
    "for i in range(1,max_len):\n",
    "\n",
    "    xs.append(i)\n",
    "    dif_1 = np.array([1/(x+1) for x in range(i)])\n",
    "    dif_1 = dif_1/sum(dif_1)*total_difference\n",
    "\n",
    "    dif_2 = np.array([total_difference/i for x in range(i)])\n",
    "\n",
    "    if normalize:\n",
    "        scores_1.append(1- 1/func1(dif_1))\n",
    "        scores_2.append(1 - 1/func2(dif_2))\n",
    "    else:\n",
    "        scores_1.append(func1(dif_1, np.zeros(len(dif_1))))\n",
    "        scores_2.append(func2(dif_2, np.zeros(len(dif_2))))\n",
    "\n",
    "plt.plot(xs, scores_1, label='descending')\n",
    "plt.plot(xs, scores_2, label='unfiorm')\n",
    "\n",
    "plt.legend()\n",
    "plt.show()"
   ]
  },
  {
   "cell_type": "code",
   "execution_count": null,
   "metadata": {},
   "outputs": [],
   "source": [
    "#databases\n",
    "outputs_path='/Users/jonahpoczobutt/projects/TunaRes/testy'\n",
    "nist14='/Users/jonahpoczobutt/projects/raw_data/db_csvs/nist14_highres.pkl'\n",
    "nist20_prot_deprot = '/Users/jonahpoczobutt/projects/raw_data/db_csvs/nist20_prot_deprot.pkl'\n",
    "nist23_hr_prot_deprot_only = '/Users/jonahpoczobutt/projects/raw_data/db_csvs/nist23_prot_deprot_only.pkl'\n",
    "nist23_hr_full ='/Users/jonahpoczobutt/projects/raw_data/db_csvs/nist23_full.pkl'\n",
    "gnps='/Users/jonahpoczobutt/projects/raw_data/db_csvs/gnps_highres.pkl'\n",
    "mona='/Users/jonahpoczobutt/projects/raw_data/db_csvs/mona_highres.pkl'\n",
    "metlin='/Users/jonahpoczobutt/projects/raw_data/db_csvs/metlin_highres_inst.pkl'\n",
    "mona_nist = '/Users/jonahpoczobutt/projects/raw_data/db_csvs/mona_nist_prot_only.pkl'\n",
    "\n",
    "self_search=False\n",
    "query = metlin\n",
    "target = nist23_hr_full\n",
    "if self_search:\n",
    "    target=query\n",
    "    \n",
    "fullRun=True\n",
    "if fullRun:\n",
    "    os.mkdir(outputs_path)\n",
    "    os.mkdir(f'{outputs_path}/intermediateOutputs')\n",
    "    os.mkdir(f'{outputs_path}/intermediateOutputs/splitMatches')"
   ]
  },
  {
   "cell_type": "code",
   "execution_count": null,
   "metadata": {},
   "outputs": [],
   "source": [
    "fullRun=False\n",
    "if fullRun:\n",
    "\n",
    "    #This should be replaced with a function to read in all the databases\n",
    "    query_ = pd.read_pickle(query)\n",
    "    all_bases = list(set(query_['inchi_base']))\n",
    "\n",
    "    if self_search:\n",
    "        query_.insert(0,'queryID', [i for i in range(len(query_))])\n",
    "    else:\n",
    "        query_.insert(0,'queryID', [\"_\" for i in range(len(query_))])\n",
    "\n",
    "    #this method is in place\n",
    "    np.random.shuffle(all_bases)\n",
    "\n",
    "    first_bases = all_bases[:int(len(all_bases)*0.5)]\n",
    "    second_bases = all_bases[int(len(all_bases)*0.5):int(len(all_bases)*0.7)]\n",
    "    third_bases = all_bases[int(len(all_bases)*0.7):]\n",
    "\n",
    "    first_query_ = query_[np.isin(query_['inchi_base'],first_bases)]\n",
    "    first_query_.reset_index(inplace=True)\n",
    "    first_query_.to_pickle(f'{outputs_path}/intermediateOutputs/splitMatches/first_query.pkl')\n",
    "    del(first_query_)\n",
    "\n",
    "    second_query_ = query_[np.isin(query_['inchi_base'],second_bases)]\n",
    "    second_query_.reset_index(inplace=True)\n",
    "    second_query_.to_pickle(f'{outputs_path}/intermediateOutputs/splitMatches/second_query.pkl')\n",
    "    del(second_query_)\n",
    "\n",
    "    third_query_ = query_[np.isin(query_['inchi_base'],third_bases)]\n",
    "    third_query_.reset_index(inplace=True)\n",
    "    third_query_.to_pickle(f'{outputs_path}/intermediateOutputs/splitMatches/third_query.pkl')\n",
    "    del(third_query_)\n",
    "    del(query_)\n",
    "\n",
    "    \n",
    "    np.save(f'{outputs_path}/intermediateOutputs/splitMatches/first_bases.npy',first_bases)\n",
    "    np.save(f'{outputs_path}/intermediateOutputs/splitMatches/second_bases.npy',second_bases)\n",
    "    np.save(f'{outputs_path}/intermediateOutputs/splitMatches/third_bases.npy',third_bases)\n",
    "    del(first_bases)\n",
    "    del(second_bases)\n",
    "    del(third_bases)\n",
    "    del(all_bases)\n"
   ]
  },
  {
   "cell_type": "code",
   "execution_count": null,
   "metadata": {},
   "outputs": [],
   "source": [
    "#Similarity methods and transformation parameters below. Leave sim methods as None to run all\n",
    "reload(datasetBuilder)\n",
    "reload(tools)\n",
    "\n",
    "ppm_windows = [10]\n",
    "\n",
    "noise_threshes=[0.01]\n",
    "centroid_tolerance_vals = [0.05]\n",
    "centroid_tolerance_types=['da']\n",
    "powers=['orig']\n",
    "sim_methods=['lorentzian','entropy','chi2','fidelity','dot_product','proportional_entropy']\n",
    "prec_removes=[True]\n",
    "build_dataset=False\n",
    "\n",
    "\n",
    "train_size=3e6\n",
    "val_size=1e6\n",
    "test_size=2e6\n",
    "\n",
    "max_matches=None\n",
    "adduct_match = False\n",
    "\n",
    "target_=pd.read_pickle(target)\n",
    "\n",
    "if self_search:\n",
    "    target_.insert(0,'queryID', [i for i in range(len(target_))])\n",
    "else:\n",
    "    target_.insert(0,'queryID', [\"*\" for i in range(len(target_))])\n",
    "\n",
    "for i in ppm_windows:\n",
    "\n",
    "    if build_dataset:\n",
    "\n",
    "        #read in first bases and shuffle order\n",
    "        query_train = pd.read_pickle(f'{outputs_path}/intermediateOutputs/splitMatches/first_query.pkl')\n",
    "        query_train=query_train.sample(frac=1)\n",
    "\n",
    "        #create matches for model to train on\n",
    "        matches = datasetBuilder.create_matches_df(query_train,target_,i,max_matches,train_size, adduct_match)\n",
    "        matches.to_pickle(f'{outputs_path}/intermediateOutputs/splitMatches/train_matches_{i}_ppm.pkl')\n",
    "        del(query_train)\n",
    "\n",
    "        \n",
    "        cleaned = datasetBuilder.create_cleaned_df(\n",
    "                                            matches, \n",
    "                                            sim_methods, \n",
    "                                            noise_threshes, \n",
    "                                            centroid_tolerance_vals, \n",
    "                                            centroid_tolerance_types,\n",
    "                                            powers,\n",
    "                                            prec_removes\n",
    "        )\n",
    "\n",
    "        cleaned.to_pickle(f'{outputs_path}/intermediateOutputs/splitMatches/train_cleaned_matches_{i}_ppm.pkl')\n",
    "\n",
    "        sub_train=cleaned.iloc[:,:2]\n",
    "        sub_train.columns=['query','target']\n",
    "        sub_train['match']=cleaned['match']\n",
    "\n",
    "        #read in first bases and shuffle order\n",
    "        query_test = pd.read_pickle(f'{outputs_path}/intermediateOutputs/splitMatches/third_query.pkl')\n",
    "        query_test=query_test.sample(frac=1)\n",
    "\n",
    "        #create matches for model to train on\n",
    "        matches = datasetBuilder.create_matches_df(query_test,target_,i,max_matches,test_size, adduct_match)\n",
    "        matches.to_pickle(f'{outputs_path}/intermediateOutputs/splitMatches/test_matches_{i}_ppm.pkl')\n",
    "        del(query_test)\n",
    "\n",
    "        \n",
    "        cleaned = datasetBuilder.create_cleaned_df(\n",
    "                                            matches, \n",
    "                                            sim_methods, \n",
    "                                            noise_threshes, \n",
    "                                            centroid_tolerance_vals, \n",
    "                                            centroid_tolerance_types,\n",
    "                                            powers,\n",
    "                                            prec_removes\n",
    "        )\n",
    "\n",
    "        cleaned.to_pickle(f'{outputs_path}/intermediateOutputs/splitMatches/test_cleaned_matches_{i}_ppm.pkl')\n",
    "\n",
    "        sub_test=cleaned.iloc[:,:2]\n",
    "        sub_test.columns=['query','target']\n",
    "        sub_test['match']=cleaned['match']\n",
    "\n",
    "\n",
    "    else:\n",
    "        sub_train = pd.read_pickle(f'{outputs_path}/intermediateOutputs/splitMatches/train_cleaned_matches_{i}_ppm.pkl')\n",
    "        sub_train.columns=['query','target','match']\n",
    "        \n",
    "        sub_test = pd.read_pickle(f'{outputs_path}/intermediateOutputs/splitMatches/test_cleaned_matches_{i}_ppm.pkl')\n",
    "        sub_test.columns=['query','target','match']"
   ]
  },
  {
   "cell_type": "markdown",
   "metadata": {},
   "source": [
    "Func Specs"
   ]
  },
  {
   "cell_type": "code",
   "execution_count": 20,
   "metadata": {},
   "outputs": [],
   "source": [
    "inds = {#'ind_lin':(['f','h'],None),\n",
    "        #'ind_lin_conv':(['f','h'],{'f':(0,np.inf),'h':(1,np.inf)}),\n",
    "          'ind_quad':(['f','g','h'],None),\n",
    "          'ind_quad_conv':(['f','g','h'],{'f':(0,np.inf),'h':(1,np.inf)}),\n",
    "          #'ind_quadk_pconv':(['f','g','h','i','j'],{'f':(0,np.inf),'h':(1,np.inf)}),\n",
    "          'ind_quadk':(['f','g','h','i','j'],None)\n",
    "}\n",
    "\n",
    "lens = {'len_lin':(['k'],None),\n",
    "          'len_aff':(['k','l'],None), \n",
    "          'len_affk':(['k','l','n','o'],None),                                                                   \n",
    "          'len_quad':(['k','l','m'],None),\n",
    "          'len_quad_conv':(['k','l','m'],{'k':(0,np.inf),'m':(1,np.inf)}),\n",
    "          'len_quadk_pconv':(['k','l','m','n','o'],{'k':(0,np.inf),'m':(1,np.inf)}),\n",
    "          'len_quadk':(['k','l','m','n','o'],None)}\n",
    "\n",
    "basics = {#'tot_lin':(['a'],None),\n",
    "          #'tot_aff':(['a','b'],None),   \n",
    "          #'tot_affk':(['a','b','e','f'],None),                                                                     \n",
    "          'tot_quad':(['a','b','c'],None),\n",
    "          #'tot_quad_conv':(['a','b','c'],{'a':(0,np.inf),'c':(1,np.inf)}),\n",
    "          #'tot_quadk_pconv':(['a','b','c','d','e'],{'a':(0,np.inf),'c':(1,np.inf)}),\n",
    "          'tot_quadk':(['a','b','c','d','e'],None),\n",
    "          #'len_lin':(['k'],None),\n",
    "          #'len_aff':(['k','l'],None), \n",
    "          #'len_affk':(['k','l','n','o'],None),                                                                   \n",
    "          'len_quad':(['k','l','m'],None),\n",
    "          #'len_quad_conv':(['k','l','m'],{'k':(0,np.inf),'m':(1,np.inf)}),\n",
    "          #'len_quadk_pconv':(['k','l','m','n','o'],{'k':(0,np.inf),'m':(1,np.inf)}),\n",
    "          'len_quadk':(['k','l','m','n','o'],None),\n",
    "          }\n",
    "\n",
    "\n",
    "ints = {'int1_lin':(['p'],None),\n",
    "          'int1_aff':(['p','q'],None), \n",
    "          'int1_affk':(['p','q','s','t'],None),                                                                       \n",
    "          'int1_quad':(['p','q','r'],None),\n",
    "          'int1_quad_conv':(['p','q','r'],{'p':(0,np.inf),'r':(1,np.inf)}),\n",
    "          'int1_quadk_pconv':(['p','q','r','s','t'],{'p':(0,np.inf),'r':(1,np.inf)}),\n",
    "          'int1_quadk':(['p','q','r','s','t'],None),\n",
    "          'int2_lin':(['u'],None),\n",
    "          'int2_aff':(['u','v'],None),  \n",
    "          'int2_affk':(['u','v','x','y'],None),                                                                     \n",
    "          'int2_quad':(['u','v','w'],None),\n",
    "          'int2_quad_conv':(['u','v','w'],{'u':(0,np.inf),'w':(1,np.inf)}),\n",
    "          'int2_quadk_pconv':(['u','v','w','x','y'],{'u':(0,np.inf),'w':(1,np.inf)}),\n",
    "          'int2_quadk':(['u','v','w','x','y'],None),\n",
    "          'int3_lin':(['z'],None),\n",
    "          'int3_aff':(['z','a_'],None),  \n",
    "          'int3_affk':(['z','a_','c_','d_'],None),                                                                      \n",
    "          'int3_quad':(['z','a_','b_'],None),\n",
    "          'int3_quad_conv':(['z','a_','b_'],{'z':(0,np.inf),'b_':(1,np.inf)}),\n",
    "          'int3_quadk_pconv':(['z','a_','b_','c_','d_'],{'z':(0,np.inf),'b_':(1,np.inf)}),\n",
    "          'int3_quadk':(['z','a_','b_','c_','d_'],None)\n",
    "          }"
   ]
  },
  {
   "cell_type": "markdown",
   "metadata": {},
   "source": [
    "For now, only test all combos of 2 feature types"
   ]
  },
  {
   "cell_type": "code",
   "execution_count": 21,
   "metadata": {},
   "outputs": [],
   "source": [
    "params = dict()\n",
    "seen =set()\n",
    "for key in inds.keys():\n",
    "    for key_ in basics.keys():\n",
    "\n",
    "        feature_type = key.split('_')[0]\n",
    "        feature_type_ = key_.split('_')[0]\n",
    "\n",
    "        func_type = key.split('_')[1]\n",
    "        func_type_ = key_.split('_')[1]\n",
    "\n",
    "        try:\n",
    "            bounds_type = key.split('_')[2]\n",
    "            bounds_type_ = key_.split('_')[2]\n",
    "        except:\n",
    "            bounds_type = ''\n",
    "            bounds_type_ = ''\n",
    "\n",
    "\n",
    "        params[f'{key}_{key_}']=(inds[key][0]+basics[key_][0],testUtils.dict_combine(inds[key][1],basics[key_][1]))\n",
    "        #params[f'{key}_{key_}_int']=(basics[key][0]+basics[key_][0],testUtils.dict_combine(basics[key][1]+basics[key_][1]))\n",
    "\n",
    "params['ind_lin']=(['f','h'],None)"
   ]
  },
  {
   "cell_type": "code",
   "execution_count": 23,
   "metadata": {},
   "outputs": [
    {
     "name": "stdout",
     "output_type": "stream",
     "text": [
      "number of specifications: 910\n"
     ]
    }
   ],
   "source": [
    "reload(func_ob)\n",
    "reload(TunaSims)\n",
    "reload(testUtils)\n",
    "#helper lambda funcs\n",
    "squared_loss = lambda x: (1-x)**2\n",
    "lin_loss = lambda x: abs(1-x)\n",
    "l1_reg = lambda l,x: l*np.sum(np.abs(x))\n",
    "l2_reg = lambda l,x: l*np.sqrt(np.sum(x**2))\n",
    "no_reg = lambda x: 0\n",
    "\n",
    "reg_funcs = [partial(l2_reg,.1),no_reg]\n",
    "reg_names = ['l2_0.1','none']\n",
    "losses = [squared_loss]\n",
    "loss_names = ['squared']\n",
    "momentums = ['none','simple','jonie']\n",
    "mom_weights = [[0.8,0.2],[0.2,0.8]]\n",
    "lambdas = [0.01]\n",
    "max_iters = [1e1,1e2,1e3,1e4,1e5,1e6,5e6]\n",
    "\n",
    "funcs=testUtils.create_all_funcs_stoch(reg_funcs=reg_funcs,\n",
    "                                       reg_names=reg_names,\n",
    "                                       losses=losses,\n",
    "                                       loss_names=loss_names,\n",
    "                                       momentums=momentums,\n",
    "                                       params=params,\n",
    "                                       mom_weights=mom_weights,\n",
    "                                       lambdas=lambdas,\n",
    "                                       max_iters=max_iters)\n",
    "\n",
    "print(f'number of specifications: {len(funcs)}')"
   ]
  },
  {
   "cell_type": "code",
   "execution_count": 24,
   "metadata": {},
   "outputs": [
    {
     "name": "stdout",
     "output_type": "stream",
     "text": [
      "0\n",
      "1\n"
     ]
    },
    {
     "name": "stderr",
     "output_type": "stream",
     "text": [
      "/Users/jonahpoczobutt/projects/TunaSim/TunaSims.py:10: RuntimeWarning: overflow encountered in exp\n",
      "  return 1/(1 + np.exp(-z))\n"
     ]
    },
    {
     "name": "stdout",
     "output_type": "stream",
     "text": [
      "2\n",
      "3\n",
      "4\n",
      "5\n",
      "6\n",
      "7\n",
      "8\n",
      "9\n",
      "10\n"
     ]
    },
    {
     "name": "stderr",
     "output_type": "stream",
     "text": [
      "/Users/jonahpoczobutt/projects/TunaSim/TunaSims.py:74: RuntimeWarning: invalid value encountered in scalar power\n",
      "  terms[0] += middle(a*(total_disagreement+b)**c,d,e)\n"
     ]
    },
    {
     "name": "stdout",
     "output_type": "stream",
     "text": [
      "11\n",
      "12\n",
      "13\n",
      "14\n",
      "15\n",
      "16\n",
      "17\n",
      "18\n",
      "19\n",
      "20\n",
      "21\n",
      "22\n",
      "23\n",
      "24\n",
      "25\n",
      "26\n",
      "27\n",
      "28\n",
      "29\n",
      "30\n",
      "31\n",
      "32\n",
      "33\n",
      "34\n",
      "35\n",
      "36\n",
      "37\n",
      "38\n",
      "39\n",
      "40\n",
      "41\n",
      "42\n",
      "43\n",
      "44\n",
      "45\n",
      "46\n",
      "47\n",
      "48\n",
      "49\n",
      "50\n",
      "51\n",
      "52\n",
      "53\n",
      "54\n",
      "55\n",
      "56\n",
      "57\n",
      "58\n",
      "59\n",
      "60\n",
      "61\n",
      "62\n",
      "63\n",
      "64\n",
      "65\n",
      "66\n",
      "67\n",
      "68\n",
      "69\n",
      "70\n",
      "71\n",
      "72\n",
      "73\n",
      "74\n",
      "75\n",
      "76\n",
      "77\n",
      "78\n",
      "79\n",
      "80\n",
      "81\n",
      "82\n"
     ]
    },
    {
     "ename": "KeyboardInterrupt",
     "evalue": "",
     "output_type": "error",
     "traceback": [
      "\u001b[0;31m---------------------------------------------------------------------------\u001b[0m",
      "\u001b[0;31mKeyboardInterrupt\u001b[0m                         Traceback (most recent call last)",
      "Cell \u001b[0;32mIn[24], line 6\u001b[0m\n\u001b[1;32m      2\u001b[0m sub_train \u001b[38;5;241m=\u001b[39m sub_train\u001b[38;5;241m.\u001b[39msample(frac\u001b[38;5;241m=\u001b[39m\u001b[38;5;241m1\u001b[39m)\n\u001b[1;32m      4\u001b[0m \u001b[38;5;28;01mfor\u001b[39;00m i \u001b[38;5;129;01min\u001b[39;00m \u001b[38;5;28mrange\u001b[39m(\u001b[38;5;28mlen\u001b[39m(funcs)):\n\u001b[0;32m----> 6\u001b[0m     funcs[i]\u001b[38;5;241m.\u001b[39mfit(sub_train)\n\u001b[1;32m      7\u001b[0m     trained\u001b[38;5;241m.\u001b[39mappend(funcs[i])\n\u001b[1;32m      8\u001b[0m     \u001b[38;5;28mprint\u001b[39m(i)\n",
      "File \u001b[0;32m~/projects/TunaSim/func_ob.py:69\u001b[0m, in \u001b[0;36mfunc_ob.fit\u001b[0;34m(self, train_data, warm_start, verbose)\u001b[0m\n\u001b[1;32m     65\u001b[0m \u001b[38;5;28;01mdef\u001b[39;00m \u001b[38;5;21mfit\u001b[39m(\u001b[38;5;28mself\u001b[39m, train_data, warm_start\u001b[38;5;241m=\u001b[39m\u001b[38;5;28;01mFalse\u001b[39;00m, verbose\u001b[38;5;241m=\u001b[39m\u001b[38;5;28;01mNone\u001b[39;00m):\n\u001b[1;32m     67\u001b[0m     \u001b[38;5;28;01mif\u001b[39;00m \u001b[38;5;28mself\u001b[39m\u001b[38;5;241m.\u001b[39msolver \u001b[38;5;241m==\u001b[39m \u001b[38;5;124m'\u001b[39m\u001b[38;5;124mstoch\u001b[39m\u001b[38;5;124m'\u001b[39m:\n\u001b[0;32m---> 69\u001b[0m         \u001b[38;5;28mself\u001b[39m\u001b[38;5;241m.\u001b[39mstoch_descent(train_data, warm_start, verbose)\n\u001b[1;32m     71\u001b[0m     \u001b[38;5;28;01melse\u001b[39;00m:\n\u001b[1;32m     72\u001b[0m         \u001b[38;5;28mself\u001b[39m\u001b[38;5;241m.\u001b[39mscipy_solver_estimate(train_data, warm_start)\n",
      "File \u001b[0;32m~/projects/TunaSim/func_ob.py:138\u001b[0m, in \u001b[0;36mfunc_ob.stoch_descent\u001b[0;34m(self, train_data, warm_start, verbose)\u001b[0m\n\u001b[1;32m    135\u001b[0m \u001b[38;5;66;03m#estimate gradient and update values\u001b[39;00m\n\u001b[1;32m    136\u001b[0m \u001b[38;5;28;01mif\u001b[39;00m \u001b[38;5;28mself\u001b[39m\u001b[38;5;241m.\u001b[39mmomentum_type \u001b[38;5;241m==\u001b[39m \u001b[38;5;124m'\u001b[39m\u001b[38;5;124mnone\u001b[39m\u001b[38;5;124m'\u001b[39m:\n\u001b[0;32m--> 138\u001b[0m     grad \u001b[38;5;241m=\u001b[39m approx(\u001b[38;5;28mself\u001b[39m\u001b[38;5;241m.\u001b[39minit_vals, \u001b[38;5;28mself\u001b[39m\u001b[38;5;241m.\u001b[39mobjective_func, \u001b[38;5;28mself\u001b[39m\u001b[38;5;241m.\u001b[39mepsilon, [\u001b[38;5;28mself\u001b[39m\u001b[38;5;241m.\u001b[39mparams, train_data\u001b[38;5;241m.\u001b[39miloc[index:index\u001b[38;5;241m+\u001b[39m\u001b[38;5;241m1\u001b[39m]])\n\u001b[1;32m    139\u001b[0m     \u001b[38;5;28;01mif\u001b[39;00m np\u001b[38;5;241m.\u001b[39many(np\u001b[38;5;241m.\u001b[39misnan(grad)) \u001b[38;5;129;01mor\u001b[39;00m np\u001b[38;5;241m.\u001b[39many(np\u001b[38;5;241m.\u001b[39misinf(grad)):\n\u001b[1;32m    140\u001b[0m         \u001b[38;5;28;01mcontinue\u001b[39;00m\n",
      "File \u001b[0;32m~/anaconda3/lib/python3.11/site-packages/scipy/optimize/_optimize.py:1089\u001b[0m, in \u001b[0;36mapprox_fprime\u001b[0;34m(xk, f, epsilon, *args)\u001b[0m\n\u001b[1;32m   1086\u001b[0m xk \u001b[38;5;241m=\u001b[39m np\u001b[38;5;241m.\u001b[39masarray(xk, \u001b[38;5;28mfloat\u001b[39m)\n\u001b[1;32m   1087\u001b[0m f0 \u001b[38;5;241m=\u001b[39m f(xk, \u001b[38;5;241m*\u001b[39margs)\n\u001b[0;32m-> 1089\u001b[0m \u001b[38;5;28;01mreturn\u001b[39;00m approx_derivative(f, xk, method\u001b[38;5;241m=\u001b[39m\u001b[38;5;124m'\u001b[39m\u001b[38;5;124m2-point\u001b[39m\u001b[38;5;124m'\u001b[39m, abs_step\u001b[38;5;241m=\u001b[39mepsilon,\n\u001b[1;32m   1090\u001b[0m                          args\u001b[38;5;241m=\u001b[39margs, f0\u001b[38;5;241m=\u001b[39mf0)\n",
      "File \u001b[0;32m~/anaconda3/lib/python3.11/site-packages/scipy/optimize/_numdiff.py:505\u001b[0m, in \u001b[0;36mapprox_derivative\u001b[0;34m(fun, x0, method, rel_step, abs_step, f0, bounds, sparsity, as_linear_operator, args, kwargs)\u001b[0m\n\u001b[1;32m    502\u001b[0m     use_one_sided \u001b[38;5;241m=\u001b[39m \u001b[38;5;28;01mFalse\u001b[39;00m\n\u001b[1;32m    504\u001b[0m \u001b[38;5;28;01mif\u001b[39;00m sparsity \u001b[38;5;129;01mis\u001b[39;00m \u001b[38;5;28;01mNone\u001b[39;00m:\n\u001b[0;32m--> 505\u001b[0m     \u001b[38;5;28;01mreturn\u001b[39;00m _dense_difference(fun_wrapped, x0, f0, h,\n\u001b[1;32m    506\u001b[0m                              use_one_sided, method)\n\u001b[1;32m    507\u001b[0m \u001b[38;5;28;01melse\u001b[39;00m:\n\u001b[1;32m    508\u001b[0m     \u001b[38;5;28;01mif\u001b[39;00m \u001b[38;5;129;01mnot\u001b[39;00m issparse(sparsity) \u001b[38;5;129;01mand\u001b[39;00m \u001b[38;5;28mlen\u001b[39m(sparsity) \u001b[38;5;241m==\u001b[39m \u001b[38;5;241m2\u001b[39m:\n",
      "File \u001b[0;32m~/anaconda3/lib/python3.11/site-packages/scipy/optimize/_numdiff.py:576\u001b[0m, in \u001b[0;36m_dense_difference\u001b[0;34m(fun, x0, f0, h, use_one_sided, method)\u001b[0m\n\u001b[1;32m    574\u001b[0m     x \u001b[38;5;241m=\u001b[39m x0 \u001b[38;5;241m+\u001b[39m h_vecs[i]\n\u001b[1;32m    575\u001b[0m     dx \u001b[38;5;241m=\u001b[39m x[i] \u001b[38;5;241m-\u001b[39m x0[i]  \u001b[38;5;66;03m# Recompute dx as exactly representable number.\u001b[39;00m\n\u001b[0;32m--> 576\u001b[0m     df \u001b[38;5;241m=\u001b[39m fun(x) \u001b[38;5;241m-\u001b[39m f0\n\u001b[1;32m    577\u001b[0m \u001b[38;5;28;01melif\u001b[39;00m method \u001b[38;5;241m==\u001b[39m \u001b[38;5;124m'\u001b[39m\u001b[38;5;124m3-point\u001b[39m\u001b[38;5;124m'\u001b[39m \u001b[38;5;129;01mand\u001b[39;00m use_one_sided[i]:\n\u001b[1;32m    578\u001b[0m     x1 \u001b[38;5;241m=\u001b[39m x0 \u001b[38;5;241m+\u001b[39m h_vecs[i]\n",
      "File \u001b[0;32m~/anaconda3/lib/python3.11/site-packages/scipy/optimize/_numdiff.py:456\u001b[0m, in \u001b[0;36mapprox_derivative.<locals>.fun_wrapped\u001b[0;34m(x)\u001b[0m\n\u001b[1;32m    455\u001b[0m \u001b[38;5;28;01mdef\u001b[39;00m \u001b[38;5;21mfun_wrapped\u001b[39m(x):\n\u001b[0;32m--> 456\u001b[0m     f \u001b[38;5;241m=\u001b[39m np\u001b[38;5;241m.\u001b[39matleast_1d(fun(x, \u001b[38;5;241m*\u001b[39margs, \u001b[38;5;241m*\u001b[39m\u001b[38;5;241m*\u001b[39mkwargs))\n\u001b[1;32m    457\u001b[0m     \u001b[38;5;28;01mif\u001b[39;00m f\u001b[38;5;241m.\u001b[39mndim \u001b[38;5;241m>\u001b[39m \u001b[38;5;241m1\u001b[39m:\n\u001b[1;32m    458\u001b[0m         \u001b[38;5;28;01mraise\u001b[39;00m \u001b[38;5;167;01mRuntimeError\u001b[39;00m(\u001b[38;5;124m\"\u001b[39m\u001b[38;5;124m`fun` return value has \u001b[39m\u001b[38;5;124m\"\u001b[39m\n\u001b[1;32m    459\u001b[0m                            \u001b[38;5;124m\"\u001b[39m\u001b[38;5;124mmore than 1 dimension.\u001b[39m\u001b[38;5;124m\"\u001b[39m)\n",
      "File \u001b[0;32m~/projects/TunaSim/func_ob.py:10\u001b[0m, in \u001b[0;36mobjective\u001b[0;34m(x, args, loss_func, reg_func, distance_func)\u001b[0m\n\u001b[1;32m      7\u001b[0m \u001b[38;5;28;01mdef\u001b[39;00m \u001b[38;5;21mobjective\u001b[39m(x, args, loss_func, reg_func, distance_func):\n\u001b[1;32m      9\u001b[0m     kwargs \u001b[38;5;241m=\u001b[39m {k:v \u001b[38;5;28;01mfor\u001b[39;00m k,v \u001b[38;5;129;01min\u001b[39;00m \u001b[38;5;28mzip\u001b[39m(args[\u001b[38;5;241m0\u001b[39m],x)}\n\u001b[0;32m---> 10\u001b[0m     \u001b[38;5;28;01mreturn\u001b[39;00m np\u001b[38;5;241m.\u001b[39msum(args[\u001b[38;5;241m1\u001b[39m]\u001b[38;5;241m.\u001b[39mapply(\u001b[38;5;28;01mlambda\u001b[39;00m i: loss_func(i[\u001b[38;5;124m'\u001b[39m\u001b[38;5;124mmatch\u001b[39m\u001b[38;5;124m'\u001b[39m] \u001b[38;5;241m-\u001b[39m distance_func(i[\u001b[38;5;124m'\u001b[39m\u001b[38;5;124mquery\u001b[39m\u001b[38;5;124m'\u001b[39m], i[\u001b[38;5;124m'\u001b[39m\u001b[38;5;124mtarget\u001b[39m\u001b[38;5;124m'\u001b[39m],\u001b[38;5;241m*\u001b[39m\u001b[38;5;241m*\u001b[39mkwargs)),axis\u001b[38;5;241m=\u001b[39m\u001b[38;5;241m1\u001b[39m) \u001b[38;5;241m+\u001b[39m reg_func(x))\n",
      "File \u001b[0;32m~/anaconda3/lib/python3.11/site-packages/pandas/core/frame.py:10034\u001b[0m, in \u001b[0;36mDataFrame.apply\u001b[0;34m(self, func, axis, raw, result_type, args, by_row, **kwargs)\u001b[0m\n\u001b[1;32m  10022\u001b[0m \u001b[38;5;28;01mfrom\u001b[39;00m \u001b[38;5;21;01mpandas\u001b[39;00m\u001b[38;5;21;01m.\u001b[39;00m\u001b[38;5;21;01mcore\u001b[39;00m\u001b[38;5;21;01m.\u001b[39;00m\u001b[38;5;21;01mapply\u001b[39;00m \u001b[38;5;28;01mimport\u001b[39;00m frame_apply\n\u001b[1;32m  10024\u001b[0m op \u001b[38;5;241m=\u001b[39m frame_apply(\n\u001b[1;32m  10025\u001b[0m     \u001b[38;5;28mself\u001b[39m,\n\u001b[1;32m  10026\u001b[0m     func\u001b[38;5;241m=\u001b[39mfunc,\n\u001b[0;32m   (...)\u001b[0m\n\u001b[1;32m  10032\u001b[0m     kwargs\u001b[38;5;241m=\u001b[39mkwargs,\n\u001b[1;32m  10033\u001b[0m )\n\u001b[0;32m> 10034\u001b[0m \u001b[38;5;28;01mreturn\u001b[39;00m op\u001b[38;5;241m.\u001b[39mapply()\u001b[38;5;241m.\u001b[39m__finalize__(\u001b[38;5;28mself\u001b[39m, method\u001b[38;5;241m=\u001b[39m\u001b[38;5;124m\"\u001b[39m\u001b[38;5;124mapply\u001b[39m\u001b[38;5;124m\"\u001b[39m)\n",
      "File \u001b[0;32m~/anaconda3/lib/python3.11/site-packages/pandas/core/apply.py:837\u001b[0m, in \u001b[0;36mFrameApply.apply\u001b[0;34m(self)\u001b[0m\n\u001b[1;32m    834\u001b[0m \u001b[38;5;28;01melif\u001b[39;00m \u001b[38;5;28mself\u001b[39m\u001b[38;5;241m.\u001b[39mraw:\n\u001b[1;32m    835\u001b[0m     \u001b[38;5;28;01mreturn\u001b[39;00m \u001b[38;5;28mself\u001b[39m\u001b[38;5;241m.\u001b[39mapply_raw()\n\u001b[0;32m--> 837\u001b[0m \u001b[38;5;28;01mreturn\u001b[39;00m \u001b[38;5;28mself\u001b[39m\u001b[38;5;241m.\u001b[39mapply_standard()\n",
      "File \u001b[0;32m~/anaconda3/lib/python3.11/site-packages/pandas/core/apply.py:965\u001b[0m, in \u001b[0;36mFrameApply.apply_standard\u001b[0;34m(self)\u001b[0m\n\u001b[1;32m    964\u001b[0m \u001b[38;5;28;01mdef\u001b[39;00m \u001b[38;5;21mapply_standard\u001b[39m(\u001b[38;5;28mself\u001b[39m):\n\u001b[0;32m--> 965\u001b[0m     results, res_index \u001b[38;5;241m=\u001b[39m \u001b[38;5;28mself\u001b[39m\u001b[38;5;241m.\u001b[39mapply_series_generator()\n\u001b[1;32m    967\u001b[0m     \u001b[38;5;66;03m# wrap results\u001b[39;00m\n\u001b[1;32m    968\u001b[0m     \u001b[38;5;28;01mreturn\u001b[39;00m \u001b[38;5;28mself\u001b[39m\u001b[38;5;241m.\u001b[39mwrap_results(results, res_index)\n",
      "File \u001b[0;32m~/anaconda3/lib/python3.11/site-packages/pandas/core/apply.py:979\u001b[0m, in \u001b[0;36mFrameApply.apply_series_generator\u001b[0;34m(self)\u001b[0m\n\u001b[1;32m    976\u001b[0m results \u001b[38;5;241m=\u001b[39m {}\n\u001b[1;32m    978\u001b[0m \u001b[38;5;28;01mwith\u001b[39;00m option_context(\u001b[38;5;124m\"\u001b[39m\u001b[38;5;124mmode.chained_assignment\u001b[39m\u001b[38;5;124m\"\u001b[39m, \u001b[38;5;28;01mNone\u001b[39;00m):\n\u001b[0;32m--> 979\u001b[0m     \u001b[38;5;28;01mfor\u001b[39;00m i, v \u001b[38;5;129;01min\u001b[39;00m \u001b[38;5;28menumerate\u001b[39m(series_gen):\n\u001b[1;32m    980\u001b[0m         \u001b[38;5;66;03m# ignore SettingWithCopy here in case the user mutates\u001b[39;00m\n\u001b[1;32m    981\u001b[0m         results[i] \u001b[38;5;241m=\u001b[39m \u001b[38;5;28mself\u001b[39m\u001b[38;5;241m.\u001b[39mfunc(v, \u001b[38;5;241m*\u001b[39m\u001b[38;5;28mself\u001b[39m\u001b[38;5;241m.\u001b[39margs, \u001b[38;5;241m*\u001b[39m\u001b[38;5;241m*\u001b[39m\u001b[38;5;28mself\u001b[39m\u001b[38;5;241m.\u001b[39mkwargs)\n\u001b[1;32m    982\u001b[0m         \u001b[38;5;28;01mif\u001b[39;00m \u001b[38;5;28misinstance\u001b[39m(results[i], ABCSeries):\n\u001b[1;32m    983\u001b[0m             \u001b[38;5;66;03m# If we have a view on v, we need to make a copy because\u001b[39;00m\n\u001b[1;32m    984\u001b[0m             \u001b[38;5;66;03m#  series_generator will swap out the underlying data\u001b[39;00m\n",
      "File \u001b[0;32m~/anaconda3/lib/python3.11/site-packages/pandas/core/apply.py:1088\u001b[0m, in \u001b[0;36mFrameColumnApply.series_generator\u001b[0;34m(self)\u001b[0m\n\u001b[1;32m   1085\u001b[0m \u001b[38;5;129m@property\u001b[39m\n\u001b[1;32m   1086\u001b[0m \u001b[38;5;28;01mdef\u001b[39;00m \u001b[38;5;21mseries_generator\u001b[39m(\u001b[38;5;28mself\u001b[39m):\n\u001b[1;32m   1087\u001b[0m     values \u001b[38;5;241m=\u001b[39m \u001b[38;5;28mself\u001b[39m\u001b[38;5;241m.\u001b[39mvalues\n\u001b[0;32m-> 1088\u001b[0m     values \u001b[38;5;241m=\u001b[39m ensure_wrapped_if_datetimelike(values)\n\u001b[1;32m   1089\u001b[0m     \u001b[38;5;28;01massert\u001b[39;00m \u001b[38;5;28mlen\u001b[39m(values) \u001b[38;5;241m>\u001b[39m \u001b[38;5;241m0\u001b[39m\n\u001b[1;32m   1091\u001b[0m     \u001b[38;5;66;03m# We create one Series object, and will swap out the data inside\u001b[39;00m\n\u001b[1;32m   1092\u001b[0m     \u001b[38;5;66;03m#  of it.  Kids: don't do this at home.\u001b[39;00m\n",
      "File \u001b[0;32m~/anaconda3/lib/python3.11/site-packages/pandas/core/construction.py:485\u001b[0m, in \u001b[0;36mensure_wrapped_if_datetimelike\u001b[0;34m(arr)\u001b[0m\n\u001b[1;32m    480\u001b[0m         \u001b[38;5;28;01mreturn\u001b[39;00m obj\u001b[38;5;241m.\u001b[39mto_numpy()  \u001b[38;5;66;03m# type: ignore[attr-defined]\u001b[39;00m\n\u001b[1;32m    482\u001b[0m     \u001b[38;5;28;01mreturn\u001b[39;00m obj\n\u001b[0;32m--> 485\u001b[0m \u001b[38;5;28;01mdef\u001b[39;00m \u001b[38;5;21mensure_wrapped_if_datetimelike\u001b[39m(arr):\n\u001b[1;32m    486\u001b[0m \u001b[38;5;250m    \u001b[39m\u001b[38;5;124;03m\"\"\"\u001b[39;00m\n\u001b[1;32m    487\u001b[0m \u001b[38;5;124;03m    Wrap datetime64 and timedelta64 ndarrays in DatetimeArray/TimedeltaArray.\u001b[39;00m\n\u001b[1;32m    488\u001b[0m \u001b[38;5;124;03m    \"\"\"\u001b[39;00m\n\u001b[1;32m    489\u001b[0m     \u001b[38;5;28;01mif\u001b[39;00m \u001b[38;5;28misinstance\u001b[39m(arr, np\u001b[38;5;241m.\u001b[39mndarray):\n",
      "\u001b[0;31mKeyboardInterrupt\u001b[0m: "
     ]
    }
   ],
   "source": [
    "trained = list()\n",
    "sub_train = sub_train.sample(frac=1)\n",
    "\n",
    "for i in range(len(funcs)):\n",
    "    \n",
    "    funcs[i].fit(sub_train)\n",
    "    trained.append(funcs[i])\n",
    "    print(i)"
   ]
  },
  {
   "cell_type": "markdown",
   "metadata": {},
   "source": [
    "Get Train Errors"
   ]
  },
  {
   "cell_type": "code",
   "execution_count": 25,
   "metadata": {},
   "outputs": [
    {
     "name": "stdout",
     "output_type": "stream",
     "text": [
      "0: ind_quad_tot_quad_l2_0.1_squared_none_0.01_10.0\n",
      "1: ind_quad_tot_quad_l2_0.1_squared_none_0.01_100.0\n",
      "2: ind_quad_tot_quad_l2_0.1_squared_none_0.01_1000.0\n"
     ]
    },
    {
     "name": "stderr",
     "output_type": "stream",
     "text": [
      "/Users/jonahpoczobutt/projects/TunaSim/TunaSims.py:10: RuntimeWarning: overflow encountered in exp\n",
      "  return 1/(1 + np.exp(-z))\n"
     ]
    },
    {
     "name": "stdout",
     "output_type": "stream",
     "text": [
      "3: ind_quad_tot_quad_l2_0.1_squared_none_0.01_10000.0\n"
     ]
    },
    {
     "name": "stderr",
     "output_type": "stream",
     "text": [
      "/Users/jonahpoczobutt/projects/TunaSim/TunaSims.py:10: RuntimeWarning: overflow encountered in exp\n",
      "  return 1/(1 + np.exp(-z))\n"
     ]
    },
    {
     "name": "stdout",
     "output_type": "stream",
     "text": [
      "4: ind_quad_tot_quad_l2_0.1_squared_none_0.01_100000.0\n"
     ]
    },
    {
     "name": "stderr",
     "output_type": "stream",
     "text": [
      "/Users/jonahpoczobutt/projects/TunaSim/TunaSims.py:10: RuntimeWarning: overflow encountered in exp\n",
      "  return 1/(1 + np.exp(-z))\n"
     ]
    },
    {
     "name": "stdout",
     "output_type": "stream",
     "text": [
      "5: ind_quad_tot_quad_l2_0.1_squared_none_0.01_1000000.0\n"
     ]
    },
    {
     "name": "stderr",
     "output_type": "stream",
     "text": [
      "/Users/jonahpoczobutt/projects/TunaSim/TunaSims.py:10: RuntimeWarning: overflow encountered in exp\n",
      "  return 1/(1 + np.exp(-z))\n"
     ]
    },
    {
     "name": "stdout",
     "output_type": "stream",
     "text": [
      "6: ind_quad_tot_quad_l2_0.1_squared_none_0.01_5000000.0\n"
     ]
    },
    {
     "name": "stderr",
     "output_type": "stream",
     "text": [
      "/Users/jonahpoczobutt/projects/TunaSim/TunaSims.py:10: RuntimeWarning: overflow encountered in exp\n",
      "  return 1/(1 + np.exp(-z))\n"
     ]
    },
    {
     "name": "stdout",
     "output_type": "stream",
     "text": [
      "7: ind_quad_tot_quadk_l2_0.1_squared_none_0.01_10.0\n",
      "8: ind_quad_tot_quadk_l2_0.1_squared_none_0.01_100.0\n",
      "9: ind_quad_tot_quadk_l2_0.1_squared_none_0.01_1000.0\n"
     ]
    },
    {
     "name": "stderr",
     "output_type": "stream",
     "text": [
      "/Users/jonahpoczobutt/projects/TunaSim/TunaSims.py:10: RuntimeWarning: overflow encountered in exp\n",
      "  return 1/(1 + np.exp(-z))\n"
     ]
    },
    {
     "name": "stdout",
     "output_type": "stream",
     "text": [
      "10: ind_quad_tot_quadk_l2_0.1_squared_none_0.01_10000.0\n"
     ]
    },
    {
     "name": "stderr",
     "output_type": "stream",
     "text": [
      "/Users/jonahpoczobutt/projects/TunaSim/TunaSims.py:10: RuntimeWarning: overflow encountered in exp\n",
      "  return 1/(1 + np.exp(-z))\n"
     ]
    },
    {
     "name": "stdout",
     "output_type": "stream",
     "text": [
      "11: ind_quad_tot_quadk_l2_0.1_squared_none_0.01_100000.0\n"
     ]
    },
    {
     "name": "stderr",
     "output_type": "stream",
     "text": [
      "/Users/jonahpoczobutt/projects/TunaSim/TunaSims.py:10: RuntimeWarning: overflow encountered in exp\n",
      "  return 1/(1 + np.exp(-z))\n",
      "/Users/jonahpoczobutt/projects/TunaSim/TunaSims.py:74: RuntimeWarning: invalid value encountered in scalar power\n",
      "  terms[0] += middle(a*(total_disagreement+b)**c,d,e)\n"
     ]
    },
    {
     "name": "stdout",
     "output_type": "stream",
     "text": [
      "12: ind_quad_tot_quadk_l2_0.1_squared_none_0.01_1000000.0\n"
     ]
    },
    {
     "name": "stderr",
     "output_type": "stream",
     "text": [
      "/Users/jonahpoczobutt/projects/TunaSim/TunaSims.py:10: RuntimeWarning: overflow encountered in exp\n",
      "  return 1/(1 + np.exp(-z))\n",
      "/Users/jonahpoczobutt/projects/TunaSim/TunaSims.py:74: RuntimeWarning: invalid value encountered in scalar power\n",
      "  terms[0] += middle(a*(total_disagreement+b)**c,d,e)\n"
     ]
    },
    {
     "name": "stdout",
     "output_type": "stream",
     "text": [
      "13: ind_quad_tot_quadk_l2_0.1_squared_none_0.01_5000000.0\n"
     ]
    },
    {
     "name": "stderr",
     "output_type": "stream",
     "text": [
      "/Users/jonahpoczobutt/projects/TunaSim/TunaSims.py:10: RuntimeWarning: overflow encountered in exp\n",
      "  return 1/(1 + np.exp(-z))\n",
      "/Users/jonahpoczobutt/projects/TunaSim/TunaSims.py:74: RuntimeWarning: invalid value encountered in scalar power\n",
      "  terms[0] += middle(a*(total_disagreement+b)**c,d,e)\n"
     ]
    },
    {
     "name": "stdout",
     "output_type": "stream",
     "text": [
      "14: ind_quad_len_quad_l2_0.1_squared_none_0.01_10.0\n",
      "15: ind_quad_len_quad_l2_0.1_squared_none_0.01_100.0\n",
      "16: ind_quad_len_quad_l2_0.1_squared_none_0.01_1000.0\n"
     ]
    },
    {
     "name": "stderr",
     "output_type": "stream",
     "text": [
      "/Users/jonahpoczobutt/projects/TunaSim/TunaSims.py:10: RuntimeWarning: overflow encountered in exp\n",
      "  return 1/(1 + np.exp(-z))\n"
     ]
    },
    {
     "name": "stdout",
     "output_type": "stream",
     "text": [
      "17: ind_quad_len_quad_l2_0.1_squared_none_0.01_10000.0\n"
     ]
    },
    {
     "name": "stderr",
     "output_type": "stream",
     "text": [
      "/Users/jonahpoczobutt/projects/TunaSim/TunaSims.py:10: RuntimeWarning: overflow encountered in exp\n",
      "  return 1/(1 + np.exp(-z))\n"
     ]
    },
    {
     "name": "stdout",
     "output_type": "stream",
     "text": [
      "18: ind_quad_len_quad_l2_0.1_squared_none_0.01_100000.0\n"
     ]
    },
    {
     "name": "stderr",
     "output_type": "stream",
     "text": [
      "/Users/jonahpoczobutt/projects/TunaSim/TunaSims.py:10: RuntimeWarning: overflow encountered in exp\n",
      "  return 1/(1 + np.exp(-z))\n"
     ]
    },
    {
     "name": "stdout",
     "output_type": "stream",
     "text": [
      "19: ind_quad_len_quad_l2_0.1_squared_none_0.01_1000000.0\n"
     ]
    },
    {
     "name": "stderr",
     "output_type": "stream",
     "text": [
      "/Users/jonahpoczobutt/projects/TunaSim/TunaSims.py:10: RuntimeWarning: overflow encountered in exp\n",
      "  return 1/(1 + np.exp(-z))\n"
     ]
    },
    {
     "name": "stdout",
     "output_type": "stream",
     "text": [
      "20: ind_quad_len_quad_l2_0.1_squared_none_0.01_5000000.0\n"
     ]
    },
    {
     "name": "stderr",
     "output_type": "stream",
     "text": [
      "/Users/jonahpoczobutt/projects/TunaSim/TunaSims.py:10: RuntimeWarning: overflow encountered in exp\n",
      "  return 1/(1 + np.exp(-z))\n"
     ]
    },
    {
     "name": "stdout",
     "output_type": "stream",
     "text": [
      "21: ind_quad_len_quadk_l2_0.1_squared_none_0.01_10.0\n",
      "22: ind_quad_len_quadk_l2_0.1_squared_none_0.01_100.0\n",
      "23: ind_quad_len_quadk_l2_0.1_squared_none_0.01_1000.0\n"
     ]
    },
    {
     "name": "stderr",
     "output_type": "stream",
     "text": [
      "/Users/jonahpoczobutt/projects/TunaSim/TunaSims.py:10: RuntimeWarning: overflow encountered in exp\n",
      "  return 1/(1 + np.exp(-z))\n"
     ]
    },
    {
     "name": "stdout",
     "output_type": "stream",
     "text": [
      "24: ind_quad_len_quadk_l2_0.1_squared_none_0.01_10000.0\n"
     ]
    },
    {
     "name": "stderr",
     "output_type": "stream",
     "text": [
      "/Users/jonahpoczobutt/projects/TunaSim/TunaSims.py:10: RuntimeWarning: overflow encountered in exp\n",
      "  return 1/(1 + np.exp(-z))\n"
     ]
    },
    {
     "name": "stdout",
     "output_type": "stream",
     "text": [
      "25: ind_quad_len_quadk_l2_0.1_squared_none_0.01_100000.0\n"
     ]
    },
    {
     "name": "stderr",
     "output_type": "stream",
     "text": [
      "/Users/jonahpoczobutt/projects/TunaSim/TunaSims.py:10: RuntimeWarning: overflow encountered in exp\n",
      "  return 1/(1 + np.exp(-z))\n"
     ]
    },
    {
     "name": "stdout",
     "output_type": "stream",
     "text": [
      "26: ind_quad_len_quadk_l2_0.1_squared_none_0.01_1000000.0\n"
     ]
    },
    {
     "name": "stderr",
     "output_type": "stream",
     "text": [
      "/Users/jonahpoczobutt/projects/TunaSim/TunaSims.py:10: RuntimeWarning: overflow encountered in exp\n",
      "  return 1/(1 + np.exp(-z))\n"
     ]
    },
    {
     "name": "stdout",
     "output_type": "stream",
     "text": [
      "27: ind_quad_len_quadk_l2_0.1_squared_none_0.01_5000000.0\n"
     ]
    },
    {
     "name": "stderr",
     "output_type": "stream",
     "text": [
      "/Users/jonahpoczobutt/projects/TunaSim/TunaSims.py:10: RuntimeWarning: overflow encountered in exp\n",
      "  return 1/(1 + np.exp(-z))\n"
     ]
    },
    {
     "name": "stdout",
     "output_type": "stream",
     "text": [
      "28: ind_quad_conv_tot_quad_l2_0.1_squared_none_0.01_10.0\n",
      "29: ind_quad_conv_tot_quad_l2_0.1_squared_none_0.01_100.0\n",
      "30: ind_quad_conv_tot_quad_l2_0.1_squared_none_0.01_1000.0\n"
     ]
    },
    {
     "name": "stderr",
     "output_type": "stream",
     "text": [
      "/Users/jonahpoczobutt/projects/TunaSim/TunaSims.py:74: RuntimeWarning: invalid value encountered in scalar power\n",
      "  terms[0] += middle(a*(total_disagreement+b)**c,d,e)\n"
     ]
    },
    {
     "name": "stdout",
     "output_type": "stream",
     "text": [
      "31: ind_quad_conv_tot_quad_l2_0.1_squared_none_0.01_10000.0\n"
     ]
    },
    {
     "name": "stderr",
     "output_type": "stream",
     "text": [
      "/Users/jonahpoczobutt/projects/TunaSim/TunaSims.py:74: RuntimeWarning: invalid value encountered in scalar power\n",
      "  terms[0] += middle(a*(total_disagreement+b)**c,d,e)\n"
     ]
    },
    {
     "name": "stdout",
     "output_type": "stream",
     "text": [
      "32: ind_quad_conv_tot_quad_l2_0.1_squared_none_0.01_100000.0\n"
     ]
    },
    {
     "name": "stderr",
     "output_type": "stream",
     "text": [
      "/Users/jonahpoczobutt/projects/TunaSim/TunaSims.py:74: RuntimeWarning: invalid value encountered in scalar power\n",
      "  terms[0] += middle(a*(total_disagreement+b)**c,d,e)\n"
     ]
    },
    {
     "name": "stdout",
     "output_type": "stream",
     "text": [
      "33: ind_quad_conv_tot_quad_l2_0.1_squared_none_0.01_1000000.0\n"
     ]
    },
    {
     "name": "stderr",
     "output_type": "stream",
     "text": [
      "/Users/jonahpoczobutt/projects/TunaSim/TunaSims.py:74: RuntimeWarning: invalid value encountered in scalar power\n",
      "  terms[0] += middle(a*(total_disagreement+b)**c,d,e)\n"
     ]
    },
    {
     "name": "stdout",
     "output_type": "stream",
     "text": [
      "34: ind_quad_conv_tot_quad_l2_0.1_squared_none_0.01_5000000.0\n"
     ]
    },
    {
     "name": "stderr",
     "output_type": "stream",
     "text": [
      "/Users/jonahpoczobutt/projects/TunaSim/TunaSims.py:74: RuntimeWarning: invalid value encountered in scalar power\n",
      "  terms[0] += middle(a*(total_disagreement+b)**c,d,e)\n"
     ]
    },
    {
     "name": "stdout",
     "output_type": "stream",
     "text": [
      "35: ind_quad_conv_tot_quadk_l2_0.1_squared_none_0.01_10.0\n",
      "36: ind_quad_conv_tot_quadk_l2_0.1_squared_none_0.01_100.0\n",
      "37: ind_quad_conv_tot_quadk_l2_0.1_squared_none_0.01_1000.0\n"
     ]
    },
    {
     "name": "stderr",
     "output_type": "stream",
     "text": [
      "/Users/jonahpoczobutt/projects/TunaSim/TunaSims.py:74: RuntimeWarning: invalid value encountered in scalar power\n",
      "  terms[0] += middle(a*(total_disagreement+b)**c,d,e)\n"
     ]
    },
    {
     "name": "stdout",
     "output_type": "stream",
     "text": [
      "38: ind_quad_conv_tot_quadk_l2_0.1_squared_none_0.01_10000.0\n"
     ]
    },
    {
     "name": "stderr",
     "output_type": "stream",
     "text": [
      "/Users/jonahpoczobutt/projects/TunaSim/TunaSims.py:74: RuntimeWarning: invalid value encountered in scalar power\n",
      "  terms[0] += middle(a*(total_disagreement+b)**c,d,e)\n"
     ]
    },
    {
     "name": "stdout",
     "output_type": "stream",
     "text": [
      "39: ind_quad_conv_tot_quadk_l2_0.1_squared_none_0.01_100000.0\n"
     ]
    },
    {
     "name": "stderr",
     "output_type": "stream",
     "text": [
      "/Users/jonahpoczobutt/projects/TunaSim/TunaSims.py:74: RuntimeWarning: invalid value encountered in scalar power\n",
      "  terms[0] += middle(a*(total_disagreement+b)**c,d,e)\n"
     ]
    },
    {
     "name": "stdout",
     "output_type": "stream",
     "text": [
      "40: ind_quad_conv_tot_quadk_l2_0.1_squared_none_0.01_1000000.0\n"
     ]
    },
    {
     "name": "stderr",
     "output_type": "stream",
     "text": [
      "/Users/jonahpoczobutt/projects/TunaSim/TunaSims.py:74: RuntimeWarning: invalid value encountered in scalar power\n",
      "  terms[0] += middle(a*(total_disagreement+b)**c,d,e)\n"
     ]
    },
    {
     "name": "stdout",
     "output_type": "stream",
     "text": [
      "41: ind_quad_conv_tot_quadk_l2_0.1_squared_none_0.01_5000000.0\n"
     ]
    },
    {
     "name": "stderr",
     "output_type": "stream",
     "text": [
      "/Users/jonahpoczobutt/projects/TunaSim/TunaSims.py:74: RuntimeWarning: invalid value encountered in scalar power\n",
      "  terms[0] += middle(a*(total_disagreement+b)**c,d,e)\n",
      "/Users/jonahpoczobutt/projects/TunaSim/TunaSims.py:10: RuntimeWarning: overflow encountered in exp\n",
      "  return 1/(1 + np.exp(-z))\n"
     ]
    },
    {
     "name": "stdout",
     "output_type": "stream",
     "text": [
      "42: ind_quad_conv_len_quad_l2_0.1_squared_none_0.01_10.0\n",
      "43: ind_quad_conv_len_quad_l2_0.1_squared_none_0.01_100.0\n",
      "44: ind_quad_conv_len_quad_l2_0.1_squared_none_0.01_1000.0\n",
      "45: ind_quad_conv_len_quad_l2_0.1_squared_none_0.01_10000.0\n"
     ]
    },
    {
     "name": "stderr",
     "output_type": "stream",
     "text": [
      "/Users/jonahpoczobutt/projects/TunaSim/TunaSims.py:82: RuntimeWarning: invalid value encountered in scalar power\n",
      "  terms[2] += middle(k*(disagreement_length+l)**m,n,o)\n"
     ]
    },
    {
     "name": "stdout",
     "output_type": "stream",
     "text": [
      "46: ind_quad_conv_len_quad_l2_0.1_squared_none_0.01_100000.0\n"
     ]
    },
    {
     "name": "stderr",
     "output_type": "stream",
     "text": [
      "/Users/jonahpoczobutt/projects/TunaSim/TunaSims.py:82: RuntimeWarning: invalid value encountered in scalar power\n",
      "  terms[2] += middle(k*(disagreement_length+l)**m,n,o)\n",
      "/Users/jonahpoczobutt/projects/TunaSim/TunaSims.py:10: RuntimeWarning: overflow encountered in exp\n",
      "  return 1/(1 + np.exp(-z))\n"
     ]
    },
    {
     "name": "stdout",
     "output_type": "stream",
     "text": [
      "47: ind_quad_conv_len_quad_l2_0.1_squared_none_0.01_1000000.0\n"
     ]
    },
    {
     "name": "stderr",
     "output_type": "stream",
     "text": [
      "/Users/jonahpoczobutt/projects/TunaSim/TunaSims.py:82: RuntimeWarning: invalid value encountered in scalar power\n",
      "  terms[2] += middle(k*(disagreement_length+l)**m,n,o)\n"
     ]
    },
    {
     "name": "stdout",
     "output_type": "stream",
     "text": [
      "48: ind_quad_conv_len_quad_l2_0.1_squared_none_0.01_5000000.0\n"
     ]
    },
    {
     "name": "stderr",
     "output_type": "stream",
     "text": [
      "/Users/jonahpoczobutt/projects/TunaSim/TunaSims.py:82: RuntimeWarning: invalid value encountered in scalar power\n",
      "  terms[2] += middle(k*(disagreement_length+l)**m,n,o)\n"
     ]
    },
    {
     "name": "stdout",
     "output_type": "stream",
     "text": [
      "49: ind_quad_conv_len_quadk_l2_0.1_squared_none_0.01_10.0\n",
      "50: ind_quad_conv_len_quadk_l2_0.1_squared_none_0.01_100.0\n",
      "51: ind_quad_conv_len_quadk_l2_0.1_squared_none_0.01_1000.0\n",
      "52: ind_quad_conv_len_quadk_l2_0.1_squared_none_0.01_10000.0\n"
     ]
    },
    {
     "name": "stderr",
     "output_type": "stream",
     "text": [
      "/Users/jonahpoczobutt/projects/TunaSim/TunaSims.py:82: RuntimeWarning: invalid value encountered in scalar power\n",
      "  terms[2] += middle(k*(disagreement_length+l)**m,n,o)\n"
     ]
    },
    {
     "name": "stdout",
     "output_type": "stream",
     "text": [
      "53: ind_quad_conv_len_quadk_l2_0.1_squared_none_0.01_100000.0\n"
     ]
    },
    {
     "name": "stderr",
     "output_type": "stream",
     "text": [
      "/Users/jonahpoczobutt/projects/TunaSim/TunaSims.py:82: RuntimeWarning: invalid value encountered in scalar power\n",
      "  terms[2] += middle(k*(disagreement_length+l)**m,n,o)\n"
     ]
    },
    {
     "name": "stdout",
     "output_type": "stream",
     "text": [
      "54: ind_quad_conv_len_quadk_l2_0.1_squared_none_0.01_1000000.0\n"
     ]
    },
    {
     "name": "stderr",
     "output_type": "stream",
     "text": [
      "/Users/jonahpoczobutt/projects/TunaSim/TunaSims.py:82: RuntimeWarning: invalid value encountered in scalar power\n",
      "  terms[2] += middle(k*(disagreement_length+l)**m,n,o)\n",
      "/Users/jonahpoczobutt/projects/TunaSim/TunaSims.py:10: RuntimeWarning: overflow encountered in exp\n",
      "  return 1/(1 + np.exp(-z))\n"
     ]
    },
    {
     "name": "stdout",
     "output_type": "stream",
     "text": [
      "55: ind_quad_conv_len_quadk_l2_0.1_squared_none_0.01_5000000.0\n"
     ]
    },
    {
     "name": "stderr",
     "output_type": "stream",
     "text": [
      "/Users/jonahpoczobutt/projects/TunaSim/TunaSims.py:82: RuntimeWarning: invalid value encountered in scalar power\n",
      "  terms[2] += middle(k*(disagreement_length+l)**m,n,o)\n",
      "/Users/jonahpoczobutt/projects/TunaSim/TunaSims.py:10: RuntimeWarning: overflow encountered in exp\n",
      "  return 1/(1 + np.exp(-z))\n"
     ]
    },
    {
     "name": "stdout",
     "output_type": "stream",
     "text": [
      "56: ind_quadk_tot_quad_l2_0.1_squared_none_0.01_10.0\n",
      "57: ind_quadk_tot_quad_l2_0.1_squared_none_0.01_100.0\n",
      "58: ind_quadk_tot_quad_l2_0.1_squared_none_0.01_1000.0\n",
      "59: ind_quadk_tot_quad_l2_0.1_squared_none_0.01_10000.0\n",
      "60: ind_quadk_tot_quad_l2_0.1_squared_none_0.01_100000.0\n",
      "61: ind_quadk_tot_quad_l2_0.1_squared_none_0.01_1000000.0\n",
      "62: ind_quadk_tot_quad_l2_0.1_squared_none_0.01_5000000.0\n",
      "63: ind_quadk_tot_quadk_l2_0.1_squared_none_0.01_10.0\n",
      "64: ind_quadk_tot_quadk_l2_0.1_squared_none_0.01_100.0\n",
      "65: ind_quadk_tot_quadk_l2_0.1_squared_none_0.01_1000.0\n",
      "66: ind_quadk_tot_quadk_l2_0.1_squared_none_0.01_10000.0\n",
      "67: ind_quadk_tot_quadk_l2_0.1_squared_none_0.01_100000.0\n",
      "68: ind_quadk_tot_quadk_l2_0.1_squared_none_0.01_1000000.0\n",
      "69: ind_quadk_tot_quadk_l2_0.1_squared_none_0.01_5000000.0\n",
      "70: ind_quadk_len_quad_l2_0.1_squared_none_0.01_10.0\n",
      "71: ind_quadk_len_quad_l2_0.1_squared_none_0.01_100.0\n",
      "72: ind_quadk_len_quad_l2_0.1_squared_none_0.01_1000.0\n",
      "73: ind_quadk_len_quad_l2_0.1_squared_none_0.01_10000.0\n",
      "74: ind_quadk_len_quad_l2_0.1_squared_none_0.01_100000.0\n"
     ]
    },
    {
     "name": "stderr",
     "output_type": "stream",
     "text": [
      "/Users/jonahpoczobutt/projects/TunaSim/TunaSims.py:10: RuntimeWarning: overflow encountered in exp\n",
      "  return 1/(1 + np.exp(-z))\n"
     ]
    },
    {
     "name": "stdout",
     "output_type": "stream",
     "text": [
      "75: ind_quadk_len_quad_l2_0.1_squared_none_0.01_1000000.0\n"
     ]
    },
    {
     "name": "stderr",
     "output_type": "stream",
     "text": [
      "/Users/jonahpoczobutt/projects/TunaSim/TunaSims.py:10: RuntimeWarning: overflow encountered in exp\n",
      "  return 1/(1 + np.exp(-z))\n"
     ]
    },
    {
     "name": "stdout",
     "output_type": "stream",
     "text": [
      "76: ind_quadk_len_quad_l2_0.1_squared_none_0.01_5000000.0\n"
     ]
    },
    {
     "name": "stderr",
     "output_type": "stream",
     "text": [
      "/Users/jonahpoczobutt/projects/TunaSim/TunaSims.py:10: RuntimeWarning: overflow encountered in exp\n",
      "  return 1/(1 + np.exp(-z))\n"
     ]
    },
    {
     "name": "stdout",
     "output_type": "stream",
     "text": [
      "77: ind_quadk_len_quadk_l2_0.1_squared_none_0.01_10.0\n",
      "78: ind_quadk_len_quadk_l2_0.1_squared_none_0.01_100.0\n",
      "79: ind_quadk_len_quadk_l2_0.1_squared_none_0.01_1000.0\n",
      "80: ind_quadk_len_quadk_l2_0.1_squared_none_0.01_10000.0\n",
      "81: ind_quadk_len_quadk_l2_0.1_squared_none_0.01_100000.0\n",
      "82: ind_quadk_len_quadk_l2_0.1_squared_none_0.01_1000000.0\n"
     ]
    },
    {
     "name": "stderr",
     "output_type": "stream",
     "text": [
      "/Users/jonahpoczobutt/anaconda3/lib/python3.11/site-packages/scipy/stats/_entropy.py:133: RuntimeWarning: invalid value encountered in divide\n",
      "  pk = 1.0*pk / np.sum(pk, axis=axis, keepdims=True)\n",
      "/Users/jonahpoczobutt/projects/TunaSim/math_distance.py:597: RuntimeWarning: invalid value encountered in scalar divide\n",
      "  score = np.power(np.sum(q * p), 2) / (\n"
     ]
    }
   ],
   "source": [
    "reload(testUtils)\n",
    "reload(spectral_similarity)\n",
    "\n",
    "#trained = trained[:12]+trained[16:]\n",
    "comparison_metrics = ['entropy',\n",
    "             'manhattan',\n",
    "             'lorentzian',\n",
    "             'dot_product',\n",
    "             'fidelity',\n",
    "             'proportional_manhattan',\n",
    "             'max_fidelity',\n",
    "             'matusita',\n",
    "             'proportional_lorentzian',\n",
    "             'chi2',\n",
    "             'laplacian',\n",
    "             'max_laplacian',\n",
    "             'harmonic_mean',\n",
    "             'bhattacharya_1',\n",
    "             'squared_chord',\n",
    "             'cross_ent'\n",
    "             ]\n",
    "\n",
    "small = testUtils.trained_res_to_df(trained,sub_train.iloc[:100000])\n",
    "small_metrics = testUtils.orig_metric_to_df(comparison_metrics,sub_train.iloc[:100000])\n",
    "\n",
    "# medium = testUtils.trained_res_to_df(trained,sub_train.iloc[:int(max_iters[1])])\n",
    "# medium_metrics = testUtils.orig_metric_to_df(comparison_metrics,sub_train.iloc[:int(max_iters[1])])\n",
    "\n",
    "# large = testUtils.trained_res_to_df(trained,sub_train.iloc[:int(max_iters[2])])\n",
    "# large_metrics = testUtils.orig_metric_to_df(comparison_metrics,sub_train.iloc[:int(max_iters[2])])"
   ]
  },
  {
   "cell_type": "code",
   "execution_count": 26,
   "metadata": {},
   "outputs": [
    {
     "name": "stdout",
     "output_type": "stream",
     "text": [
      "0: ind_quad_tot_quad_l2_0.1_squared_none_0.01_10.0\n",
      "1: ind_quad_tot_quad_l2_0.1_squared_none_0.01_100.0\n",
      "2: ind_quad_tot_quad_l2_0.1_squared_none_0.01_1000.0\n"
     ]
    },
    {
     "name": "stderr",
     "output_type": "stream",
     "text": [
      "/Users/jonahpoczobutt/projects/TunaSim/TunaSims.py:10: RuntimeWarning: overflow encountered in exp\n",
      "  return 1/(1 + np.exp(-z))\n"
     ]
    },
    {
     "name": "stdout",
     "output_type": "stream",
     "text": [
      "3: ind_quad_tot_quad_l2_0.1_squared_none_0.01_10000.0\n"
     ]
    },
    {
     "name": "stderr",
     "output_type": "stream",
     "text": [
      "/Users/jonahpoczobutt/projects/TunaSim/TunaSims.py:10: RuntimeWarning: overflow encountered in exp\n",
      "  return 1/(1 + np.exp(-z))\n"
     ]
    },
    {
     "name": "stdout",
     "output_type": "stream",
     "text": [
      "4: ind_quad_tot_quad_l2_0.1_squared_none_0.01_100000.0\n"
     ]
    },
    {
     "name": "stderr",
     "output_type": "stream",
     "text": [
      "/Users/jonahpoczobutt/projects/TunaSim/TunaSims.py:10: RuntimeWarning: overflow encountered in exp\n",
      "  return 1/(1 + np.exp(-z))\n"
     ]
    },
    {
     "name": "stdout",
     "output_type": "stream",
     "text": [
      "5: ind_quad_tot_quad_l2_0.1_squared_none_0.01_1000000.0\n"
     ]
    },
    {
     "name": "stderr",
     "output_type": "stream",
     "text": [
      "/Users/jonahpoczobutt/projects/TunaSim/TunaSims.py:10: RuntimeWarning: overflow encountered in exp\n",
      "  return 1/(1 + np.exp(-z))\n"
     ]
    },
    {
     "name": "stdout",
     "output_type": "stream",
     "text": [
      "6: ind_quad_tot_quad_l2_0.1_squared_none_0.01_5000000.0\n"
     ]
    },
    {
     "name": "stderr",
     "output_type": "stream",
     "text": [
      "/Users/jonahpoczobutt/projects/TunaSim/TunaSims.py:10: RuntimeWarning: overflow encountered in exp\n",
      "  return 1/(1 + np.exp(-z))\n"
     ]
    },
    {
     "name": "stdout",
     "output_type": "stream",
     "text": [
      "7: ind_quad_tot_quadk_l2_0.1_squared_none_0.01_10.0\n",
      "8: ind_quad_tot_quadk_l2_0.1_squared_none_0.01_100.0\n",
      "9: ind_quad_tot_quadk_l2_0.1_squared_none_0.01_1000.0\n"
     ]
    },
    {
     "name": "stderr",
     "output_type": "stream",
     "text": [
      "/Users/jonahpoczobutt/projects/TunaSim/TunaSims.py:10: RuntimeWarning: overflow encountered in exp\n",
      "  return 1/(1 + np.exp(-z))\n"
     ]
    },
    {
     "name": "stdout",
     "output_type": "stream",
     "text": [
      "10: ind_quad_tot_quadk_l2_0.1_squared_none_0.01_10000.0\n"
     ]
    },
    {
     "name": "stderr",
     "output_type": "stream",
     "text": [
      "/Users/jonahpoczobutt/projects/TunaSim/TunaSims.py:10: RuntimeWarning: overflow encountered in exp\n",
      "  return 1/(1 + np.exp(-z))\n"
     ]
    },
    {
     "name": "stdout",
     "output_type": "stream",
     "text": [
      "11: ind_quad_tot_quadk_l2_0.1_squared_none_0.01_100000.0\n"
     ]
    },
    {
     "name": "stderr",
     "output_type": "stream",
     "text": [
      "/Users/jonahpoczobutt/projects/TunaSim/TunaSims.py:10: RuntimeWarning: overflow encountered in exp\n",
      "  return 1/(1 + np.exp(-z))\n",
      "/Users/jonahpoczobutt/projects/TunaSim/TunaSims.py:74: RuntimeWarning: invalid value encountered in scalar power\n",
      "  terms[0] += middle(a*(total_disagreement+b)**c,d,e)\n"
     ]
    },
    {
     "name": "stdout",
     "output_type": "stream",
     "text": [
      "12: ind_quad_tot_quadk_l2_0.1_squared_none_0.01_1000000.0\n"
     ]
    },
    {
     "name": "stderr",
     "output_type": "stream",
     "text": [
      "/Users/jonahpoczobutt/projects/TunaSim/TunaSims.py:10: RuntimeWarning: overflow encountered in exp\n",
      "  return 1/(1 + np.exp(-z))\n",
      "/Users/jonahpoczobutt/projects/TunaSim/TunaSims.py:74: RuntimeWarning: invalid value encountered in scalar power\n",
      "  terms[0] += middle(a*(total_disagreement+b)**c,d,e)\n"
     ]
    },
    {
     "name": "stdout",
     "output_type": "stream",
     "text": [
      "13: ind_quad_tot_quadk_l2_0.1_squared_none_0.01_5000000.0\n"
     ]
    },
    {
     "name": "stderr",
     "output_type": "stream",
     "text": [
      "/Users/jonahpoczobutt/projects/TunaSim/TunaSims.py:10: RuntimeWarning: overflow encountered in exp\n",
      "  return 1/(1 + np.exp(-z))\n",
      "/Users/jonahpoczobutt/projects/TunaSim/TunaSims.py:74: RuntimeWarning: invalid value encountered in scalar power\n",
      "  terms[0] += middle(a*(total_disagreement+b)**c,d,e)\n"
     ]
    },
    {
     "name": "stdout",
     "output_type": "stream",
     "text": [
      "14: ind_quad_len_quad_l2_0.1_squared_none_0.01_10.0\n",
      "15: ind_quad_len_quad_l2_0.1_squared_none_0.01_100.0\n",
      "16: ind_quad_len_quad_l2_0.1_squared_none_0.01_1000.0\n"
     ]
    },
    {
     "name": "stderr",
     "output_type": "stream",
     "text": [
      "/Users/jonahpoczobutt/projects/TunaSim/TunaSims.py:10: RuntimeWarning: overflow encountered in exp\n",
      "  return 1/(1 + np.exp(-z))\n"
     ]
    },
    {
     "name": "stdout",
     "output_type": "stream",
     "text": [
      "17: ind_quad_len_quad_l2_0.1_squared_none_0.01_10000.0\n"
     ]
    },
    {
     "name": "stderr",
     "output_type": "stream",
     "text": [
      "/Users/jonahpoczobutt/projects/TunaSim/TunaSims.py:10: RuntimeWarning: overflow encountered in exp\n",
      "  return 1/(1 + np.exp(-z))\n"
     ]
    },
    {
     "name": "stdout",
     "output_type": "stream",
     "text": [
      "18: ind_quad_len_quad_l2_0.1_squared_none_0.01_100000.0\n"
     ]
    },
    {
     "name": "stderr",
     "output_type": "stream",
     "text": [
      "/Users/jonahpoczobutt/projects/TunaSim/TunaSims.py:10: RuntimeWarning: overflow encountered in exp\n",
      "  return 1/(1 + np.exp(-z))\n"
     ]
    },
    {
     "name": "stdout",
     "output_type": "stream",
     "text": [
      "19: ind_quad_len_quad_l2_0.1_squared_none_0.01_1000000.0\n"
     ]
    },
    {
     "name": "stderr",
     "output_type": "stream",
     "text": [
      "/Users/jonahpoczobutt/projects/TunaSim/TunaSims.py:10: RuntimeWarning: overflow encountered in exp\n",
      "  return 1/(1 + np.exp(-z))\n"
     ]
    },
    {
     "name": "stdout",
     "output_type": "stream",
     "text": [
      "20: ind_quad_len_quad_l2_0.1_squared_none_0.01_5000000.0\n"
     ]
    },
    {
     "name": "stderr",
     "output_type": "stream",
     "text": [
      "/Users/jonahpoczobutt/projects/TunaSim/TunaSims.py:10: RuntimeWarning: overflow encountered in exp\n",
      "  return 1/(1 + np.exp(-z))\n"
     ]
    },
    {
     "name": "stdout",
     "output_type": "stream",
     "text": [
      "21: ind_quad_len_quadk_l2_0.1_squared_none_0.01_10.0\n",
      "22: ind_quad_len_quadk_l2_0.1_squared_none_0.01_100.0\n",
      "23: ind_quad_len_quadk_l2_0.1_squared_none_0.01_1000.0\n"
     ]
    },
    {
     "name": "stderr",
     "output_type": "stream",
     "text": [
      "/Users/jonahpoczobutt/projects/TunaSim/TunaSims.py:10: RuntimeWarning: overflow encountered in exp\n",
      "  return 1/(1 + np.exp(-z))\n"
     ]
    },
    {
     "name": "stdout",
     "output_type": "stream",
     "text": [
      "24: ind_quad_len_quadk_l2_0.1_squared_none_0.01_10000.0\n"
     ]
    },
    {
     "name": "stderr",
     "output_type": "stream",
     "text": [
      "/Users/jonahpoczobutt/projects/TunaSim/TunaSims.py:10: RuntimeWarning: overflow encountered in exp\n",
      "  return 1/(1 + np.exp(-z))\n"
     ]
    },
    {
     "name": "stdout",
     "output_type": "stream",
     "text": [
      "25: ind_quad_len_quadk_l2_0.1_squared_none_0.01_100000.0\n"
     ]
    },
    {
     "name": "stderr",
     "output_type": "stream",
     "text": [
      "/Users/jonahpoczobutt/projects/TunaSim/TunaSims.py:10: RuntimeWarning: overflow encountered in exp\n",
      "  return 1/(1 + np.exp(-z))\n"
     ]
    },
    {
     "name": "stdout",
     "output_type": "stream",
     "text": [
      "26: ind_quad_len_quadk_l2_0.1_squared_none_0.01_1000000.0\n"
     ]
    },
    {
     "name": "stderr",
     "output_type": "stream",
     "text": [
      "/Users/jonahpoczobutt/projects/TunaSim/TunaSims.py:10: RuntimeWarning: overflow encountered in exp\n",
      "  return 1/(1 + np.exp(-z))\n"
     ]
    },
    {
     "name": "stdout",
     "output_type": "stream",
     "text": [
      "27: ind_quad_len_quadk_l2_0.1_squared_none_0.01_5000000.0\n"
     ]
    },
    {
     "name": "stderr",
     "output_type": "stream",
     "text": [
      "/Users/jonahpoczobutt/projects/TunaSim/TunaSims.py:10: RuntimeWarning: overflow encountered in exp\n",
      "  return 1/(1 + np.exp(-z))\n"
     ]
    },
    {
     "name": "stdout",
     "output_type": "stream",
     "text": [
      "28: ind_quad_conv_tot_quad_l2_0.1_squared_none_0.01_10.0\n",
      "29: ind_quad_conv_tot_quad_l2_0.1_squared_none_0.01_100.0\n",
      "30: ind_quad_conv_tot_quad_l2_0.1_squared_none_0.01_1000.0\n"
     ]
    },
    {
     "name": "stderr",
     "output_type": "stream",
     "text": [
      "/Users/jonahpoczobutt/projects/TunaSim/TunaSims.py:74: RuntimeWarning: invalid value encountered in scalar power\n",
      "  terms[0] += middle(a*(total_disagreement+b)**c,d,e)\n",
      "/Users/jonahpoczobutt/projects/TunaSim/TunaSims.py:10: RuntimeWarning: overflow encountered in exp\n",
      "  return 1/(1 + np.exp(-z))\n",
      "/Users/jonahpoczobutt/projects/TunaSim/TunaSims.py:74: RuntimeWarning: invalid value encountered in scalar power\n",
      "  terms[0] += middle(a*(total_disagreement+b)**c,d,e)\n"
     ]
    },
    {
     "name": "stdout",
     "output_type": "stream",
     "text": [
      "31: ind_quad_conv_tot_quad_l2_0.1_squared_none_0.01_10000.0\n",
      "32: ind_quad_conv_tot_quad_l2_0.1_squared_none_0.01_100000.0\n"
     ]
    },
    {
     "name": "stderr",
     "output_type": "stream",
     "text": [
      "/Users/jonahpoczobutt/projects/TunaSim/TunaSims.py:74: RuntimeWarning: invalid value encountered in scalar power\n",
      "  terms[0] += middle(a*(total_disagreement+b)**c,d,e)\n"
     ]
    },
    {
     "name": "stdout",
     "output_type": "stream",
     "text": [
      "33: ind_quad_conv_tot_quad_l2_0.1_squared_none_0.01_1000000.0\n"
     ]
    },
    {
     "name": "stderr",
     "output_type": "stream",
     "text": [
      "/Users/jonahpoczobutt/projects/TunaSim/TunaSims.py:74: RuntimeWarning: invalid value encountered in scalar power\n",
      "  terms[0] += middle(a*(total_disagreement+b)**c,d,e)\n"
     ]
    },
    {
     "name": "stdout",
     "output_type": "stream",
     "text": [
      "34: ind_quad_conv_tot_quad_l2_0.1_squared_none_0.01_5000000.0\n"
     ]
    },
    {
     "name": "stderr",
     "output_type": "stream",
     "text": [
      "/Users/jonahpoczobutt/projects/TunaSim/TunaSims.py:74: RuntimeWarning: invalid value encountered in scalar power\n",
      "  terms[0] += middle(a*(total_disagreement+b)**c,d,e)\n"
     ]
    },
    {
     "name": "stdout",
     "output_type": "stream",
     "text": [
      "35: ind_quad_conv_tot_quadk_l2_0.1_squared_none_0.01_10.0\n",
      "36: ind_quad_conv_tot_quadk_l2_0.1_squared_none_0.01_100.0\n",
      "37: ind_quad_conv_tot_quadk_l2_0.1_squared_none_0.01_1000.0\n"
     ]
    },
    {
     "name": "stderr",
     "output_type": "stream",
     "text": [
      "/Users/jonahpoczobutt/projects/TunaSim/TunaSims.py:74: RuntimeWarning: invalid value encountered in scalar power\n",
      "  terms[0] += middle(a*(total_disagreement+b)**c,d,e)\n"
     ]
    },
    {
     "name": "stdout",
     "output_type": "stream",
     "text": [
      "38: ind_quad_conv_tot_quadk_l2_0.1_squared_none_0.01_10000.0\n"
     ]
    },
    {
     "name": "stderr",
     "output_type": "stream",
     "text": [
      "/Users/jonahpoczobutt/projects/TunaSim/TunaSims.py:74: RuntimeWarning: invalid value encountered in scalar power\n",
      "  terms[0] += middle(a*(total_disagreement+b)**c,d,e)\n"
     ]
    },
    {
     "name": "stdout",
     "output_type": "stream",
     "text": [
      "39: ind_quad_conv_tot_quadk_l2_0.1_squared_none_0.01_100000.0\n"
     ]
    },
    {
     "name": "stderr",
     "output_type": "stream",
     "text": [
      "/Users/jonahpoczobutt/projects/TunaSim/TunaSims.py:74: RuntimeWarning: invalid value encountered in scalar power\n",
      "  terms[0] += middle(a*(total_disagreement+b)**c,d,e)\n"
     ]
    },
    {
     "name": "stdout",
     "output_type": "stream",
     "text": [
      "40: ind_quad_conv_tot_quadk_l2_0.1_squared_none_0.01_1000000.0\n"
     ]
    },
    {
     "name": "stderr",
     "output_type": "stream",
     "text": [
      "/Users/jonahpoczobutt/projects/TunaSim/TunaSims.py:74: RuntimeWarning: invalid value encountered in scalar power\n",
      "  terms[0] += middle(a*(total_disagreement+b)**c,d,e)\n"
     ]
    },
    {
     "name": "stdout",
     "output_type": "stream",
     "text": [
      "41: ind_quad_conv_tot_quadk_l2_0.1_squared_none_0.01_5000000.0\n"
     ]
    },
    {
     "name": "stderr",
     "output_type": "stream",
     "text": [
      "/Users/jonahpoczobutt/projects/TunaSim/TunaSims.py:74: RuntimeWarning: invalid value encountered in scalar power\n",
      "  terms[0] += middle(a*(total_disagreement+b)**c,d,e)\n",
      "/Users/jonahpoczobutt/projects/TunaSim/TunaSims.py:10: RuntimeWarning: overflow encountered in exp\n",
      "  return 1/(1 + np.exp(-z))\n"
     ]
    },
    {
     "name": "stdout",
     "output_type": "stream",
     "text": [
      "42: ind_quad_conv_len_quad_l2_0.1_squared_none_0.01_10.0\n",
      "43: ind_quad_conv_len_quad_l2_0.1_squared_none_0.01_100.0\n",
      "44: ind_quad_conv_len_quad_l2_0.1_squared_none_0.01_1000.0\n",
      "45: ind_quad_conv_len_quad_l2_0.1_squared_none_0.01_10000.0\n"
     ]
    },
    {
     "name": "stderr",
     "output_type": "stream",
     "text": [
      "/Users/jonahpoczobutt/projects/TunaSim/TunaSims.py:82: RuntimeWarning: invalid value encountered in scalar power\n",
      "  terms[2] += middle(k*(disagreement_length+l)**m,n,o)\n"
     ]
    },
    {
     "name": "stdout",
     "output_type": "stream",
     "text": [
      "46: ind_quad_conv_len_quad_l2_0.1_squared_none_0.01_100000.0\n"
     ]
    },
    {
     "name": "stderr",
     "output_type": "stream",
     "text": [
      "/Users/jonahpoczobutt/projects/TunaSim/TunaSims.py:82: RuntimeWarning: invalid value encountered in scalar power\n",
      "  terms[2] += middle(k*(disagreement_length+l)**m,n,o)\n",
      "/Users/jonahpoczobutt/projects/TunaSim/TunaSims.py:10: RuntimeWarning: overflow encountered in exp\n",
      "  return 1/(1 + np.exp(-z))\n"
     ]
    },
    {
     "name": "stdout",
     "output_type": "stream",
     "text": [
      "47: ind_quad_conv_len_quad_l2_0.1_squared_none_0.01_1000000.0\n"
     ]
    },
    {
     "name": "stderr",
     "output_type": "stream",
     "text": [
      "/Users/jonahpoczobutt/projects/TunaSim/TunaSims.py:82: RuntimeWarning: invalid value encountered in scalar power\n",
      "  terms[2] += middle(k*(disagreement_length+l)**m,n,o)\n"
     ]
    },
    {
     "name": "stdout",
     "output_type": "stream",
     "text": [
      "48: ind_quad_conv_len_quad_l2_0.1_squared_none_0.01_5000000.0\n"
     ]
    },
    {
     "name": "stderr",
     "output_type": "stream",
     "text": [
      "/Users/jonahpoczobutt/projects/TunaSim/TunaSims.py:82: RuntimeWarning: invalid value encountered in scalar power\n",
      "  terms[2] += middle(k*(disagreement_length+l)**m,n,o)\n"
     ]
    },
    {
     "name": "stdout",
     "output_type": "stream",
     "text": [
      "49: ind_quad_conv_len_quadk_l2_0.1_squared_none_0.01_10.0\n",
      "50: ind_quad_conv_len_quadk_l2_0.1_squared_none_0.01_100.0\n",
      "51: ind_quad_conv_len_quadk_l2_0.1_squared_none_0.01_1000.0\n",
      "52: ind_quad_conv_len_quadk_l2_0.1_squared_none_0.01_10000.0\n"
     ]
    },
    {
     "name": "stderr",
     "output_type": "stream",
     "text": [
      "/Users/jonahpoczobutt/projects/TunaSim/TunaSims.py:82: RuntimeWarning: invalid value encountered in scalar power\n",
      "  terms[2] += middle(k*(disagreement_length+l)**m,n,o)\n"
     ]
    },
    {
     "name": "stdout",
     "output_type": "stream",
     "text": [
      "53: ind_quad_conv_len_quadk_l2_0.1_squared_none_0.01_100000.0\n"
     ]
    },
    {
     "name": "stderr",
     "output_type": "stream",
     "text": [
      "/Users/jonahpoczobutt/projects/TunaSim/TunaSims.py:82: RuntimeWarning: invalid value encountered in scalar power\n",
      "  terms[2] += middle(k*(disagreement_length+l)**m,n,o)\n"
     ]
    },
    {
     "name": "stdout",
     "output_type": "stream",
     "text": [
      "54: ind_quad_conv_len_quadk_l2_0.1_squared_none_0.01_1000000.0\n"
     ]
    },
    {
     "name": "stderr",
     "output_type": "stream",
     "text": [
      "/Users/jonahpoczobutt/projects/TunaSim/TunaSims.py:82: RuntimeWarning: invalid value encountered in scalar power\n",
      "  terms[2] += middle(k*(disagreement_length+l)**m,n,o)\n",
      "/Users/jonahpoczobutt/projects/TunaSim/TunaSims.py:10: RuntimeWarning: overflow encountered in exp\n",
      "  return 1/(1 + np.exp(-z))\n"
     ]
    },
    {
     "name": "stdout",
     "output_type": "stream",
     "text": [
      "55: ind_quad_conv_len_quadk_l2_0.1_squared_none_0.01_5000000.0\n"
     ]
    },
    {
     "name": "stderr",
     "output_type": "stream",
     "text": [
      "/Users/jonahpoczobutt/projects/TunaSim/TunaSims.py:82: RuntimeWarning: invalid value encountered in scalar power\n",
      "  terms[2] += middle(k*(disagreement_length+l)**m,n,o)\n",
      "/Users/jonahpoczobutt/projects/TunaSim/TunaSims.py:10: RuntimeWarning: overflow encountered in exp\n",
      "  return 1/(1 + np.exp(-z))\n"
     ]
    },
    {
     "name": "stdout",
     "output_type": "stream",
     "text": [
      "56: ind_quadk_tot_quad_l2_0.1_squared_none_0.01_10.0\n",
      "57: ind_quadk_tot_quad_l2_0.1_squared_none_0.01_100.0\n",
      "58: ind_quadk_tot_quad_l2_0.1_squared_none_0.01_1000.0\n",
      "59: ind_quadk_tot_quad_l2_0.1_squared_none_0.01_10000.0\n",
      "60: ind_quadk_tot_quad_l2_0.1_squared_none_0.01_100000.0\n",
      "61: ind_quadk_tot_quad_l2_0.1_squared_none_0.01_1000000.0\n",
      "62: ind_quadk_tot_quad_l2_0.1_squared_none_0.01_5000000.0\n",
      "63: ind_quadk_tot_quadk_l2_0.1_squared_none_0.01_10.0\n",
      "64: ind_quadk_tot_quadk_l2_0.1_squared_none_0.01_100.0\n",
      "65: ind_quadk_tot_quadk_l2_0.1_squared_none_0.01_1000.0\n",
      "66: ind_quadk_tot_quadk_l2_0.1_squared_none_0.01_10000.0\n",
      "67: ind_quadk_tot_quadk_l2_0.1_squared_none_0.01_100000.0\n",
      "68: ind_quadk_tot_quadk_l2_0.1_squared_none_0.01_1000000.0\n",
      "69: ind_quadk_tot_quadk_l2_0.1_squared_none_0.01_5000000.0\n",
      "70: ind_quadk_len_quad_l2_0.1_squared_none_0.01_10.0\n",
      "71: ind_quadk_len_quad_l2_0.1_squared_none_0.01_100.0\n",
      "72: ind_quadk_len_quad_l2_0.1_squared_none_0.01_1000.0\n",
      "73: ind_quadk_len_quad_l2_0.1_squared_none_0.01_10000.0\n",
      "74: ind_quadk_len_quad_l2_0.1_squared_none_0.01_100000.0\n"
     ]
    },
    {
     "name": "stderr",
     "output_type": "stream",
     "text": [
      "/Users/jonahpoczobutt/projects/TunaSim/TunaSims.py:10: RuntimeWarning: overflow encountered in exp\n",
      "  return 1/(1 + np.exp(-z))\n"
     ]
    },
    {
     "name": "stdout",
     "output_type": "stream",
     "text": [
      "75: ind_quadk_len_quad_l2_0.1_squared_none_0.01_1000000.0\n"
     ]
    },
    {
     "name": "stderr",
     "output_type": "stream",
     "text": [
      "/Users/jonahpoczobutt/projects/TunaSim/TunaSims.py:10: RuntimeWarning: overflow encountered in exp\n",
      "  return 1/(1 + np.exp(-z))\n"
     ]
    },
    {
     "name": "stdout",
     "output_type": "stream",
     "text": [
      "76: ind_quadk_len_quad_l2_0.1_squared_none_0.01_5000000.0\n"
     ]
    },
    {
     "name": "stderr",
     "output_type": "stream",
     "text": [
      "/Users/jonahpoczobutt/projects/TunaSim/TunaSims.py:10: RuntimeWarning: overflow encountered in exp\n",
      "  return 1/(1 + np.exp(-z))\n"
     ]
    },
    {
     "name": "stdout",
     "output_type": "stream",
     "text": [
      "77: ind_quadk_len_quadk_l2_0.1_squared_none_0.01_10.0\n",
      "78: ind_quadk_len_quadk_l2_0.1_squared_none_0.01_100.0\n",
      "79: ind_quadk_len_quadk_l2_0.1_squared_none_0.01_1000.0\n",
      "80: ind_quadk_len_quadk_l2_0.1_squared_none_0.01_10000.0\n",
      "81: ind_quadk_len_quadk_l2_0.1_squared_none_0.01_100000.0\n",
      "82: ind_quadk_len_quadk_l2_0.1_squared_none_0.01_1000000.0\n"
     ]
    },
    {
     "name": "stderr",
     "output_type": "stream",
     "text": [
      "/Users/jonahpoczobutt/anaconda3/lib/python3.11/site-packages/scipy/stats/_entropy.py:133: RuntimeWarning: invalid value encountered in divide\n",
      "  pk = 1.0*pk / np.sum(pk, axis=axis, keepdims=True)\n",
      "/Users/jonahpoczobutt/projects/TunaSim/math_distance.py:597: RuntimeWarning: invalid value encountered in scalar divide\n",
      "  score = np.power(np.sum(q * p), 2) / (\n"
     ]
    }
   ],
   "source": [
    "small_test = testUtils.trained_res_to_df(trained,sub_test.iloc[:100000])\n",
    "small_test_metrics = testUtils.orig_metric_to_df(comparison_metrics,sub_test.iloc[:100000])\n",
    "\n",
    "# medium_test = testUtils.trained_res_to_df(trainy[mids],sub_test.iloc[int(max_iters[2]):200000])\n",
    "# medium_test_metrics = testUtils.orig_metric_to_df(comparison_metrics,sub_test.iloc[int(max_iters[2]):200000])\n",
    "\n",
    "# large_test = testUtils.trained_res_to_df(trainy[bigs],sub_test.iloc[int(max_iters[2]):200000])\n",
    "# large_test_metrics = testUtils.orig_metric_to_df(comparison_metrics,sub_test.iloc[int(max_iters[2]):200000])"
   ]
  },
  {
   "cell_type": "code",
   "execution_count": null,
   "metadata": {},
   "outputs": [],
   "source": [
    "TunaSims.sigmoid(trained[1].trained_vals[0]*1)-TunaSims.sigmoid(trained[1].trained_vals[0]*0.5)"
   ]
  },
  {
   "cell_type": "code",
   "execution_count": 27,
   "metadata": {},
   "outputs": [],
   "source": [
    "small.sort_values(by='auc', inplace=True, ascending=False)\n",
    "small_test.sort_values(by='auc', inplace=True, ascending=False)"
   ]
  },
  {
   "cell_type": "code",
   "execution_count": 32,
   "metadata": {},
   "outputs": [
    {
     "data": {
      "text/html": [
       "<div>\n",
       "<style scoped>\n",
       "    .dataframe tbody tr th:only-of-type {\n",
       "        vertical-align: middle;\n",
       "    }\n",
       "\n",
       "    .dataframe tbody tr th {\n",
       "        vertical-align: top;\n",
       "    }\n",
       "\n",
       "    .dataframe thead th {\n",
       "        text-align: right;\n",
       "    }\n",
       "</style>\n",
       "<table border=\"1\" class=\"dataframe\">\n",
       "  <thead>\n",
       "    <tr style=\"text-align: right;\">\n",
       "      <th></th>\n",
       "      <th>name</th>\n",
       "      <th>reg</th>\n",
       "      <th>alpha</th>\n",
       "      <th>loss_func</th>\n",
       "      <th>momentum</th>\n",
       "      <th>weights</th>\n",
       "      <th>lambdas</th>\n",
       "      <th>max_iter</th>\n",
       "      <th>auc</th>\n",
       "    </tr>\n",
       "  </thead>\n",
       "  <tbody>\n",
       "    <tr>\n",
       "      <th>58</th>\n",
       "      <td>ind_quadk_tot_quad_l2</td>\n",
       "      <td>0.1</td>\n",
       "      <td>squared</td>\n",
       "      <td>none</td>\n",
       "      <td>0.01</td>\n",
       "      <td>1000.0</td>\n",
       "      <td>0.01</td>\n",
       "      <td>1000.0</td>\n",
       "      <td>0.812493</td>\n",
       "    </tr>\n",
       "    <tr>\n",
       "      <th>59</th>\n",
       "      <td>ind_quadk_tot_quad_l2</td>\n",
       "      <td>0.1</td>\n",
       "      <td>squared</td>\n",
       "      <td>none</td>\n",
       "      <td>0.01</td>\n",
       "      <td>10000.0</td>\n",
       "      <td>0.01</td>\n",
       "      <td>10000.0</td>\n",
       "      <td>0.812481</td>\n",
       "    </tr>\n",
       "    <tr>\n",
       "      <th>60</th>\n",
       "      <td>ind_quadk_tot_quad_l2</td>\n",
       "      <td>0.1</td>\n",
       "      <td>squared</td>\n",
       "      <td>none</td>\n",
       "      <td>0.01</td>\n",
       "      <td>100000.0</td>\n",
       "      <td>0.01</td>\n",
       "      <td>100000.0</td>\n",
       "      <td>0.812416</td>\n",
       "    </tr>\n",
       "    <tr>\n",
       "      <th>62</th>\n",
       "      <td>ind_quadk_tot_quad_l2</td>\n",
       "      <td>0.1</td>\n",
       "      <td>squared</td>\n",
       "      <td>none</td>\n",
       "      <td>0.01</td>\n",
       "      <td>5000000.0</td>\n",
       "      <td>0.01</td>\n",
       "      <td>5000000.0</td>\n",
       "      <td>0.812287</td>\n",
       "    </tr>\n",
       "    <tr>\n",
       "      <th>29</th>\n",
       "      <td>ind_quad_conv_tot_quad_l2</td>\n",
       "      <td>0.1</td>\n",
       "      <td>squared</td>\n",
       "      <td>none</td>\n",
       "      <td>0.01</td>\n",
       "      <td>100.0</td>\n",
       "      <td>0.01</td>\n",
       "      <td>100.0</td>\n",
       "      <td>0.812172</td>\n",
       "    </tr>\n",
       "    <tr>\n",
       "      <th>57</th>\n",
       "      <td>ind_quadk_tot_quad_l2</td>\n",
       "      <td>0.1</td>\n",
       "      <td>squared</td>\n",
       "      <td>none</td>\n",
       "      <td>0.01</td>\n",
       "      <td>100.0</td>\n",
       "      <td>0.01</td>\n",
       "      <td>100.0</td>\n",
       "      <td>0.812169</td>\n",
       "    </tr>\n",
       "    <tr>\n",
       "      <th>61</th>\n",
       "      <td>ind_quadk_tot_quad_l2</td>\n",
       "      <td>0.1</td>\n",
       "      <td>squared</td>\n",
       "      <td>none</td>\n",
       "      <td>0.01</td>\n",
       "      <td>1000000.0</td>\n",
       "      <td>0.01</td>\n",
       "      <td>1000000.0</td>\n",
       "      <td>0.812019</td>\n",
       "    </tr>\n",
       "    <tr>\n",
       "      <th>7</th>\n",
       "      <td>ind_quad_tot_quadk_l2</td>\n",
       "      <td>0.1</td>\n",
       "      <td>squared</td>\n",
       "      <td>none</td>\n",
       "      <td>0.01</td>\n",
       "      <td>10.0</td>\n",
       "      <td>0.01</td>\n",
       "      <td>10.0</td>\n",
       "      <td>0.623431</td>\n",
       "    </tr>\n",
       "    <tr>\n",
       "      <th>21</th>\n",
       "      <td>ind_quad_len_quadk_l2</td>\n",
       "      <td>0.1</td>\n",
       "      <td>squared</td>\n",
       "      <td>none</td>\n",
       "      <td>0.01</td>\n",
       "      <td>10.0</td>\n",
       "      <td>0.01</td>\n",
       "      <td>10.0</td>\n",
       "      <td>0.623427</td>\n",
       "    </tr>\n",
       "    <tr>\n",
       "      <th>0</th>\n",
       "      <td>ind_quad_tot_quad_l2</td>\n",
       "      <td>0.1</td>\n",
       "      <td>squared</td>\n",
       "      <td>none</td>\n",
       "      <td>0.01</td>\n",
       "      <td>10.0</td>\n",
       "      <td>0.01</td>\n",
       "      <td>10.0</td>\n",
       "      <td>0.623068</td>\n",
       "    </tr>\n",
       "    <tr>\n",
       "      <th>14</th>\n",
       "      <td>ind_quad_len_quad_l2</td>\n",
       "      <td>0.1</td>\n",
       "      <td>squared</td>\n",
       "      <td>none</td>\n",
       "      <td>0.01</td>\n",
       "      <td>10.0</td>\n",
       "      <td>0.01</td>\n",
       "      <td>10.0</td>\n",
       "      <td>0.622963</td>\n",
       "    </tr>\n",
       "    <tr>\n",
       "      <th>71</th>\n",
       "      <td>ind_quadk_len_quad_l2</td>\n",
       "      <td>0.1</td>\n",
       "      <td>squared</td>\n",
       "      <td>none</td>\n",
       "      <td>0.01</td>\n",
       "      <td>100.0</td>\n",
       "      <td>0.01</td>\n",
       "      <td>100.0</td>\n",
       "      <td>0.612233</td>\n",
       "    </tr>\n",
       "    <tr>\n",
       "      <th>72</th>\n",
       "      <td>ind_quadk_len_quad_l2</td>\n",
       "      <td>0.1</td>\n",
       "      <td>squared</td>\n",
       "      <td>none</td>\n",
       "      <td>0.01</td>\n",
       "      <td>1000.0</td>\n",
       "      <td>0.01</td>\n",
       "      <td>1000.0</td>\n",
       "      <td>0.612233</td>\n",
       "    </tr>\n",
       "    <tr>\n",
       "      <th>73</th>\n",
       "      <td>ind_quadk_len_quad_l2</td>\n",
       "      <td>0.1</td>\n",
       "      <td>squared</td>\n",
       "      <td>none</td>\n",
       "      <td>0.01</td>\n",
       "      <td>10000.0</td>\n",
       "      <td>0.01</td>\n",
       "      <td>10000.0</td>\n",
       "      <td>0.612232</td>\n",
       "    </tr>\n",
       "    <tr>\n",
       "      <th>74</th>\n",
       "      <td>ind_quadk_len_quad_l2</td>\n",
       "      <td>0.1</td>\n",
       "      <td>squared</td>\n",
       "      <td>none</td>\n",
       "      <td>0.01</td>\n",
       "      <td>100000.0</td>\n",
       "      <td>0.01</td>\n",
       "      <td>100000.0</td>\n",
       "      <td>0.610377</td>\n",
       "    </tr>\n",
       "    <tr>\n",
       "      <th>22</th>\n",
       "      <td>ind_quad_len_quadk_l2</td>\n",
       "      <td>0.1</td>\n",
       "      <td>squared</td>\n",
       "      <td>none</td>\n",
       "      <td>0.01</td>\n",
       "      <td>100.0</td>\n",
       "      <td>0.01</td>\n",
       "      <td>100.0</td>\n",
       "      <td>0.606810</td>\n",
       "    </tr>\n",
       "    <tr>\n",
       "      <th>8</th>\n",
       "      <td>ind_quad_tot_quadk_l2</td>\n",
       "      <td>0.1</td>\n",
       "      <td>squared</td>\n",
       "      <td>none</td>\n",
       "      <td>0.01</td>\n",
       "      <td>100.0</td>\n",
       "      <td>0.01</td>\n",
       "      <td>100.0</td>\n",
       "      <td>0.606760</td>\n",
       "    </tr>\n",
       "    <tr>\n",
       "      <th>1</th>\n",
       "      <td>ind_quad_tot_quad_l2</td>\n",
       "      <td>0.1</td>\n",
       "      <td>squared</td>\n",
       "      <td>none</td>\n",
       "      <td>0.01</td>\n",
       "      <td>100.0</td>\n",
       "      <td>0.01</td>\n",
       "      <td>100.0</td>\n",
       "      <td>0.606646</td>\n",
       "    </tr>\n",
       "    <tr>\n",
       "      <th>15</th>\n",
       "      <td>ind_quad_len_quad_l2</td>\n",
       "      <td>0.1</td>\n",
       "      <td>squared</td>\n",
       "      <td>none</td>\n",
       "      <td>0.01</td>\n",
       "      <td>100.0</td>\n",
       "      <td>0.01</td>\n",
       "      <td>100.0</td>\n",
       "      <td>0.606224</td>\n",
       "    </tr>\n",
       "    <tr>\n",
       "      <th>75</th>\n",
       "      <td>ind_quadk_len_quad_l2</td>\n",
       "      <td>0.1</td>\n",
       "      <td>squared</td>\n",
       "      <td>none</td>\n",
       "      <td>0.01</td>\n",
       "      <td>1000000.0</td>\n",
       "      <td>0.01</td>\n",
       "      <td>1000000.0</td>\n",
       "      <td>0.602473</td>\n",
       "    </tr>\n",
       "  </tbody>\n",
       "</table>\n",
       "</div>"
      ],
      "text/plain": [
       "                         name  reg    alpha loss_func momentum    weights  \\\n",
       "58      ind_quadk_tot_quad_l2  0.1  squared      none     0.01     1000.0   \n",
       "59      ind_quadk_tot_quad_l2  0.1  squared      none     0.01    10000.0   \n",
       "60      ind_quadk_tot_quad_l2  0.1  squared      none     0.01   100000.0   \n",
       "62      ind_quadk_tot_quad_l2  0.1  squared      none     0.01  5000000.0   \n",
       "29  ind_quad_conv_tot_quad_l2  0.1  squared      none     0.01      100.0   \n",
       "57      ind_quadk_tot_quad_l2  0.1  squared      none     0.01      100.0   \n",
       "61      ind_quadk_tot_quad_l2  0.1  squared      none     0.01  1000000.0   \n",
       "7       ind_quad_tot_quadk_l2  0.1  squared      none     0.01       10.0   \n",
       "21      ind_quad_len_quadk_l2  0.1  squared      none     0.01       10.0   \n",
       "0        ind_quad_tot_quad_l2  0.1  squared      none     0.01       10.0   \n",
       "14       ind_quad_len_quad_l2  0.1  squared      none     0.01       10.0   \n",
       "71      ind_quadk_len_quad_l2  0.1  squared      none     0.01      100.0   \n",
       "72      ind_quadk_len_quad_l2  0.1  squared      none     0.01     1000.0   \n",
       "73      ind_quadk_len_quad_l2  0.1  squared      none     0.01    10000.0   \n",
       "74      ind_quadk_len_quad_l2  0.1  squared      none     0.01   100000.0   \n",
       "22      ind_quad_len_quadk_l2  0.1  squared      none     0.01      100.0   \n",
       "8       ind_quad_tot_quadk_l2  0.1  squared      none     0.01      100.0   \n",
       "1        ind_quad_tot_quad_l2  0.1  squared      none     0.01      100.0   \n",
       "15       ind_quad_len_quad_l2  0.1  squared      none     0.01      100.0   \n",
       "75      ind_quadk_len_quad_l2  0.1  squared      none     0.01  1000000.0   \n",
       "\n",
       "    lambdas   max_iter       auc  \n",
       "58     0.01     1000.0  0.812493  \n",
       "59     0.01    10000.0  0.812481  \n",
       "60     0.01   100000.0  0.812416  \n",
       "62     0.01  5000000.0  0.812287  \n",
       "29     0.01      100.0  0.812172  \n",
       "57     0.01      100.0  0.812169  \n",
       "61     0.01  1000000.0  0.812019  \n",
       "7      0.01       10.0  0.623431  \n",
       "21     0.01       10.0  0.623427  \n",
       "0      0.01       10.0  0.623068  \n",
       "14     0.01       10.0  0.622963  \n",
       "71     0.01      100.0  0.612233  \n",
       "72     0.01     1000.0  0.612233  \n",
       "73     0.01    10000.0  0.612232  \n",
       "74     0.01   100000.0  0.610377  \n",
       "22     0.01      100.0  0.606810  \n",
       "8      0.01      100.0  0.606760  \n",
       "1      0.01      100.0  0.606646  \n",
       "15     0.01      100.0  0.606224  \n",
       "75     0.01  1000000.0  0.602473  "
      ]
     },
     "execution_count": 32,
     "metadata": {},
     "output_type": "execute_result"
    }
   ],
   "source": [
    "small[:20]"
   ]
  },
  {
   "cell_type": "code",
   "execution_count": 31,
   "metadata": {},
   "outputs": [
    {
     "data": {
      "text/plain": [
       "{'ind_quad_conv_len_quad_l2',\n",
       " 'ind_quad_conv_len_quadk_l2',\n",
       " 'ind_quad_conv_tot_quad_l2',\n",
       " 'ind_quad_conv_tot_quadk_l2',\n",
       " 'ind_quad_len_quad_l2',\n",
       " 'ind_quad_len_quadk_l2',\n",
       " 'ind_quad_tot_quad_l2',\n",
       " 'ind_quad_tot_quadk_l2',\n",
       " 'ind_quadk_len_quad_l2',\n",
       " 'ind_quadk_len_quadk_l2',\n",
       " 'ind_quadk_tot_quad_l2',\n",
       " 'ind_quadk_tot_quadk_l2'}"
      ]
     },
     "execution_count": 31,
     "metadata": {},
     "output_type": "execute_result"
    }
   ],
   "source": [
    "set(small_test['name'])"
   ]
  },
  {
   "cell_type": "code",
   "execution_count": 51,
   "metadata": {},
   "outputs": [
    {
     "data": {
      "text/plain": [
       "array([1, 6])"
      ]
     },
     "execution_count": 51,
     "metadata": {},
     "output_type": "execute_result"
    }
   ],
   "source": [
    "(np.array([1,2])*np.array([1,3]))# * (np.array([1,2])/np.array([1,3]))"
   ]
  },
  {
   "cell_type": "code",
   "execution_count": 30,
   "metadata": {},
   "outputs": [
    {
     "data": {
      "text/html": [
       "<div>\n",
       "<style scoped>\n",
       "    .dataframe tbody tr th:only-of-type {\n",
       "        vertical-align: middle;\n",
       "    }\n",
       "\n",
       "    .dataframe tbody tr th {\n",
       "        vertical-align: top;\n",
       "    }\n",
       "\n",
       "    .dataframe thead th {\n",
       "        text-align: right;\n",
       "    }\n",
       "</style>\n",
       "<table border=\"1\" class=\"dataframe\">\n",
       "  <thead>\n",
       "    <tr style=\"text-align: right;\">\n",
       "      <th></th>\n",
       "      <th>metric</th>\n",
       "      <th>AUC</th>\n",
       "    </tr>\n",
       "  </thead>\n",
       "  <tbody>\n",
       "    <tr>\n",
       "      <th>0</th>\n",
       "      <td>entropy</td>\n",
       "      <td>0.791632</td>\n",
       "    </tr>\n",
       "    <tr>\n",
       "      <th>1</th>\n",
       "      <td>manhattan</td>\n",
       "      <td>0.798584</td>\n",
       "    </tr>\n",
       "    <tr>\n",
       "      <th>2</th>\n",
       "      <td>lorentzian</td>\n",
       "      <td>0.801264</td>\n",
       "    </tr>\n",
       "    <tr>\n",
       "      <th>3</th>\n",
       "      <td>dot_product</td>\n",
       "      <td>0.795368</td>\n",
       "    </tr>\n",
       "    <tr>\n",
       "      <th>4</th>\n",
       "      <td>fidelity</td>\n",
       "      <td>0.792377</td>\n",
       "    </tr>\n",
       "    <tr>\n",
       "      <th>5</th>\n",
       "      <td>proportional_manhattan</td>\n",
       "      <td>0.792970</td>\n",
       "    </tr>\n",
       "    <tr>\n",
       "      <th>6</th>\n",
       "      <td>max_fidelity</td>\n",
       "      <td>0.789883</td>\n",
       "    </tr>\n",
       "    <tr>\n",
       "      <th>7</th>\n",
       "      <td>matusita</td>\n",
       "      <td>0.800813</td>\n",
       "    </tr>\n",
       "    <tr>\n",
       "      <th>8</th>\n",
       "      <td>proportional_lorentzian</td>\n",
       "      <td>0.791576</td>\n",
       "    </tr>\n",
       "    <tr>\n",
       "      <th>9</th>\n",
       "      <td>chi2</td>\n",
       "      <td>0.803755</td>\n",
       "    </tr>\n",
       "    <tr>\n",
       "      <th>10</th>\n",
       "      <td>laplacian</td>\n",
       "      <td>0.798374</td>\n",
       "    </tr>\n",
       "    <tr>\n",
       "      <th>11</th>\n",
       "      <td>max_laplacian</td>\n",
       "      <td>0.788766</td>\n",
       "    </tr>\n",
       "    <tr>\n",
       "      <th>12</th>\n",
       "      <td>harmonic_mean</td>\n",
       "      <td>0.794141</td>\n",
       "    </tr>\n",
       "    <tr>\n",
       "      <th>13</th>\n",
       "      <td>bhattacharya_1</td>\n",
       "      <td>0.792377</td>\n",
       "    </tr>\n",
       "    <tr>\n",
       "      <th>14</th>\n",
       "      <td>squared_chord</td>\n",
       "      <td>0.800813</td>\n",
       "    </tr>\n",
       "    <tr>\n",
       "      <th>15</th>\n",
       "      <td>cross_ent</td>\n",
       "      <td>0.781917</td>\n",
       "    </tr>\n",
       "  </tbody>\n",
       "</table>\n",
       "</div>"
      ],
      "text/plain": [
       "                     metric       AUC\n",
       "0                   entropy  0.791632\n",
       "1                 manhattan  0.798584\n",
       "2                lorentzian  0.801264\n",
       "3               dot_product  0.795368\n",
       "4                  fidelity  0.792377\n",
       "5    proportional_manhattan  0.792970\n",
       "6              max_fidelity  0.789883\n",
       "7                  matusita  0.800813\n",
       "8   proportional_lorentzian  0.791576\n",
       "9                      chi2  0.803755\n",
       "10                laplacian  0.798374\n",
       "11            max_laplacian  0.788766\n",
       "12            harmonic_mean  0.794141\n",
       "13           bhattacharya_1  0.792377\n",
       "14            squared_chord  0.800813\n",
       "15                cross_ent  0.781917"
      ]
     },
     "execution_count": 30,
     "metadata": {},
     "output_type": "execute_result"
    }
   ],
   "source": [
    "small_test_metrics"
   ]
  },
  {
   "cell_type": "code",
   "execution_count": null,
   "metadata": {},
   "outputs": [],
   "source": [
    "small_test.sort_values(by='auc', inplace=True, ascending=False)\n",
    "small_test[:20]"
   ]
  },
  {
   "cell_type": "code",
   "execution_count": null,
   "metadata": {},
   "outputs": [],
   "source": [
    "small_test_metrics"
   ]
  },
  {
   "cell_type": "code",
   "execution_count": null,
   "metadata": {},
   "outputs": [],
   "source": [
    "large_test_=small_test[(small_test['reg']=='l2')&(small_test['loss_func']=='squared')&(small_test['alpha']=='0.1')]\n",
    "large_test_=large_test_[['name','momentum','auc']]\n",
    "large_test_.groupby(by=['name','momentum',]).mean()"
   ]
  },
  {
   "cell_type": "code",
   "execution_count": null,
   "metadata": {},
   "outputs": [],
   "source": [
    "large_test.sort_values(by='auc',ascending=False)"
   ]
  },
  {
   "cell_type": "markdown",
   "metadata": {},
   "source": [
    "Conclusions: \n",
    "\n",
    "add offsets for terms\n",
    "\n",
    "num of params not appearing to change train time much\n",
    "\n",
    "consider replacing knockouts with sigmoids\n",
    "\n",
    "consider tuning final sigmoid\n",
    "\n",
    "should features like length,entropy be included in the similarity, or be used outside as extra feature in learned mod.both? neither?\n"
   ]
  },
  {
   "cell_type": "markdown",
   "metadata": {},
   "source": [
    "Other Ideas:\n",
    "\n",
    "Accuracy (In order of increasing difficulty):\n",
    "\n",
    "-Incorporate as feature how many possible chem structures (can also restrict to NPS) exist within a certain precursor distance. (violating golden rules or not)\n",
    "\n",
    "-include original NIST version or theoretical res as feature\n",
    "\n",
    "-Weight different ranges of spec differently for matches (more diversity/greater accuracy)\n",
    "\n",
    "-smush together top n results over different inchicores and come up with combined model predicting over individual inchicores\n",
    "\n",
    "-diagnostic ion/loss classing as a feature...do they match\n",
    "\n",
    "-kernelized smooth match\n",
    "\n",
    "-3d struct guesses...do they match (cores, but can generalize to 3d)\n",
    "\n",
    "Speed(In order of increasing difficulty):\n",
    "\n",
    "-combine sim metrics and expand(apply func to df)\n",
    "\n",
    "-exclude matches based on non-similarity features to cut down on needed comparisons\n",
    "\n",
    "-ion tables to upper bound similarity\n",
    "\n",
    "-only use one peak consolidation and matching protocol...then only do reweight transformations on already matched peaks for spec and sim features\n",
    "\n",
    "-can missing peaks in lower energy be explained by frags and losses from higher energy? incorporate into model"
   ]
  },
  {
   "cell_type": "markdown",
   "metadata": {},
   "source": [
    "Order to proceed:\n",
    "\n",
    "-recreate databases with coll energy included (standardized format across DBs)\n",
    "\n",
    "-what proportion of matches are the same coll energy?\n",
    "\n",
    "-quantify variability in peak appearance vs peak intensity across collision energies\n",
    "    -does this relate in a predictable way to fragment mass\n",
    "\n",
    "-test sim metrics for same coll energy vs not same col energy (is the same inductive bias useful)\n",
    "\n",
    "-Show that regular funcs are in the space of combo distance\n",
    "\n",
    "-test combining individual metrics that use different components of the 2 vectors (add, mult, dif)\n",
    "\n",
    "-range over individual metrics in combined score in attempt to explain why combining them is successful\n",
    "\n",
    "-train combo metrics with flattened components and individual (should these sims be broken out?)\n",
    "    -should we do this for same coll energy vs dif energies\n",
    "\n",
    "-are different combo metrics put into larger model more successful than the combined individual metrics\n",
    "\n",
    "-can tunasims be fit with nonlinearities between the components (flattened or not?)"
   ]
  },
  {
   "cell_type": "markdown",
   "metadata": {},
   "source": []
  }
 ],
 "metadata": {
  "kernelspec": {
   "display_name": "base",
   "language": "python",
   "name": "python3"
  },
  "language_info": {
   "codemirror_mode": {
    "name": "ipython",
    "version": 3
   },
   "file_extension": ".py",
   "mimetype": "text/x-python",
   "name": "python",
   "nbconvert_exporter": "python",
   "pygments_lexer": "ipython3",
   "version": "3.11.7"
  }
 },
 "nbformat": 4,
 "nbformat_minor": 2
}
