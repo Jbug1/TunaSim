{
 "cells": [
  {
   "cell_type": "code",
   "execution_count": 3,
   "metadata": {},
   "outputs": [],
   "source": [
    "import numpy as np\n",
    "import pandas as pd\n",
    "import matplotlib.pyplot as plt"
   ]
  },
  {
   "cell_type": "code",
   "execution_count": 45,
   "metadata": {},
   "outputs": [],
   "source": [
    "def distance1(dif,a,b,c,d):\n",
    "    \"\"\"\n",
    "    \"\"\"\n",
    "    return np.sum(a*(np.abs(dif)**b))*(c*len(dif)**d)\n",
    "\n",
    "def distance2(dif,a,b,c,d):\n",
    "\n",
    "    return np.sum(a*(np.abs(dif)**b))+(c*len(dif)**d)\n",
    "\n",
    "def distance3(dif,a,b,c,d,e,f):\n",
    "    \"\"\"\n",
    "    \"\"\"\n",
    "    return np.sum(a*(np.abs(dif)**b))*(c*len(dif)**d)*e*np.sum(dif)**f\n",
    "\n",
    "def distance4(dif,a,b,c,d,e,f):\n",
    "    \"\"\"\n",
    "    \"\"\"\n",
    "    return np.sum(a*(np.abs(dif)**b))+(c*len(dif)**d)+e*np.sum(dif)**f\n"
   ]
  },
  {
   "cell_type": "markdown",
   "metadata": {},
   "source": [
    "Results for Different Ways of Distributing Interpectral Intensity Difference"
   ]
  },
  {
   "cell_type": "code",
   "execution_count": 49,
   "metadata": {},
   "outputs": [
    {
     "data": {
      "image/png": "[encoded data removed]",
      "text/plain": [
       "<Figure size 432x288 with 1 Axes>"
      ]
     },
     "metadata": {
      "needs_background": "light"
     },
     "output_type": "display_data"
    }
   ],
   "source": [
    "xs=list()\n",
    "scores_1=list()\n",
    "scores_2=list()\n",
    "\n",
    "total_difference = 0.9\n",
    "len_difference = 10\n",
    "max_len = 25\n",
    "\n",
    "func1 = partial(distance2,a=1,b=-2,c=1,d=1)\n",
    "func2 = partial(distance2,a=1,b=-2,c=1,d=1)\n",
    "\n",
    "normalize = False\n",
    "\n",
    "for i in range(1,max_len):\n",
    "\n",
    "    xs.append(i)\n",
    "    dif_1 = np.array([1/(x+1) for x in range(i)])\n",
    "    dif_1 = dif_1/sum(dif_1)*total_difference\n",
    "\n",
    "    dif_2 = [total_difference/i for x in range(i)]\n",
    "\n",
    "    if normalize:\n",
    "        scores_1.append(1- 1/func1(dif_1))\n",
    "        scores_2.append(1 - 1/func2(dif_2))\n",
    "    else:\n",
    "        scores_1.append(func1(dif_1))\n",
    "        scores_2.append(func2(dif_2))\n",
    "\n",
    "plt.plot(xs, scores_1, label='descending')\n",
    "plt.plot(xs, scores_2, label='unfiorm')\n",
    "\n",
    "plt.legend()\n",
    "plt.show()"
   ]
  },
  {
   "cell_type": "code",
   "execution_count": null,
   "metadata": {},
   "outputs": [],
   "source": []
  }
 ],
 "metadata": {
  "kernelspec": {
   "display_name": "base",
   "language": "python",
   "name": "python3"
  },
  "language_info": {
   "codemirror_mode": {
    "name": "ipython",
    "version": 3
   },
   "file_extension": ".py",
   "mimetype": "text/x-python",
   "name": "python",
   "nbconvert_exporter": "python",
   "pygments_lexer": "ipython3",
   "version": "3.9.12"
  }
 },
 "nbformat": 4,
 "nbformat_minor": 2
}
