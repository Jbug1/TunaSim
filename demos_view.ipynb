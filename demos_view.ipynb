{
 "cells": [
  {
   "cell_type": "code",
   "execution_count": null,
   "metadata": {},
   "outputs": [],
   "source": [
    "import numpy as np\n",
    "import pandas as pd\n",
    "import matplotlib.pyplot as plt\n",
    "from functools import partial\n",
    "from importlib import reload\n",
    "import os\n",
    "from collections import Counter\n",
    "from sklearn.metrics import roc_auc_score as auc\n",
    "import copy\n",
    "from sklearn.ensemble import HistGradientBoostingClassifier as hgbc\n",
    "import pickle\n",
    "import warnings\n",
    "warnings.filterwarnings(\"ignore\")\n",
    "\n",
    "import TunaSims\n",
    "import func_ob\n",
    "import tools\n",
    "import datasetBuilder\n",
    "import testUtils\n",
    "import spectral_similarity"
   ]
  },
  {
   "cell_type": "code",
   "execution_count": null,
   "metadata": {},
   "outputs": [],
   "source": [
    "xs=list()\n",
    "scores_1=list()\n",
    "scores_2=list()\n",
    "\n",
    "total_difference = 0.9\n",
    "len_difference = 10\n",
    "max_len = 25\n",
    "\n",
    "func1 = partial(TunaSims.tuna_dif_distance,f=1,g=1,h=2)\n",
    "func2 = partial(TunaSims.tuna_dif_distance,f=1,g=1,h=2)\n",
    "\n",
    "normalize = False\n",
    "\n",
    "for i in range(1,max_len):\n",
    "\n",
    "    xs.append(i)\n",
    "    dif_1 = np.array([1/(x+1) for x in range(i)])\n",
    "    dif_1 = dif_1/sum(dif_1)*total_difference\n",
    "\n",
    "    dif_2 = np.array([total_difference/i for x in range(i)])\n",
    "\n",
    "    if normalize:\n",
    "        scores_1.append(1- 1/func1(dif_1))\n",
    "        scores_2.append(1 - 1/func2(dif_2))\n",
    "    else:\n",
    "        scores_1.append(func1(dif_1, np.zeros(len(dif_1))))\n",
    "        scores_2.append(func2(dif_2, np.zeros(len(dif_2))))\n",
    "\n",
    "plt.plot(xs, scores_1, label='descending')\n",
    "plt.plot(xs, scores_2, label='unfiorm')\n",
    "\n",
    "plt.legend()\n",
    "plt.show()"
   ]
  }
 ],
 "metadata": {
  "language_info": {
   "name": "python"
  }
 },
 "nbformat": 4,
 "nbformat_minor": 2
}
