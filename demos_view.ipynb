{
 "cells": [
  {
   "cell_type": "code",
   "execution_count": null,
   "metadata": {},
   "outputs": [],
   "source": [
    "import numpy as np\n",
    "import pandas as pd\n",
    "import matplotlib.pyplot as plt\n",
    "from functools import partial\n",
    "from importlib import reload\n",
    "import os\n",
    "from collections import Counter\n",
    "from sklearn.metrics import roc_auc_score as auc\n",
    "import copy\n",
    "from sklearn.ensemble import HistGradientBoostingClassifier as hgbc\n",
    "import pickle\n",
    "import warnings\n",
    "warnings.filterwarnings(\"ignore\")\n",
    "\n",
    "import TunaSims\n",
    "import func_ob\n",
    "import tools\n",
    "import datasetBuilder\n",
    "import testUtils\n",
    "import spectral_similarity"
   ]
  },
  {
   "cell_type": "markdown",
   "metadata": {},
   "source": [
    "Play with Different Settings Here...How does simlarity change with parameters"
   ]
  },
  {
   "cell_type": "code",
   "execution_count": null,
   "metadata": {},
   "outputs": [],
   "source": [
    "xs=list()\n",
    "scores_1=list()\n",
    "scores_2=list()\n",
    "\n",
    "total_difference = 0.9\n",
    "len_difference = 10\n",
    "max_len = 25\n",
    "\n",
    "func1 = partial(TunaSims.tuna_dif_distance,f=1,g=1,h=2)\n",
    "func2 = partial(TunaSims.tuna_dif_distance,f=1,g=1,h=2)\n",
    "\n",
    "normalize = False\n",
    "\n",
    "for i in range(1,max_len):\n",
    "\n",
    "    xs.append(i)\n",
    "    dif_1 = np.array([1/(x+1) for x in range(i)])\n",
    "    dif_1 = dif_1/sum(dif_1)*total_difference\n",
    "\n",
    "    dif_2 = np.array([total_difference/i for x in range(i)])\n",
    "\n",
    "    if normalize:\n",
    "        scores_1.append(1- 1/func1(dif_1))\n",
    "        scores_2.append(1 - 1/func2(dif_2))\n",
    "    else:\n",
    "        scores_1.append(func1(dif_1, np.zeros(len(dif_1))))\n",
    "        scores_2.append(func2(dif_2, np.zeros(len(dif_2))))\n",
    "\n",
    "plt.plot(xs, scores_1, label='descending')\n",
    "plt.plot(xs, scores_2, label='unfiorm')\n",
    "\n",
    "plt.legend()\n",
    "plt.show()"
   ]
  },
  {
   "cell_type": "markdown",
   "metadata": {},
   "source": [
    "Metlin Q-Tof Only for exploration of Collision Energy"
   ]
  },
  {
   "cell_type": "markdown",
   "metadata": {},
   "source": [
    "view results"
   ]
  },
  {
   "cell_type": "code",
   "execution_count": null,
   "metadata": {},
   "outputs": [],
   "source": [
    "same_mode = True\n",
    "same_precursor_type = True\n",
    "same_key = True\n",
    "same_base = True\n",
    "within_ppm=True\n",
    "key=(same_mode,same_precursor_type,same_key, same_base, within_ppm)\n",
    "\n",
    "\n",
    "sims1 = pd.DataFrame(sims_dict[key],columns=[0,10,20,40])\n",
    "sims1.insert(0,'Collision Energy',[0,10,20,40])\n",
    "sims1 = sims1.round(2)\n",
    "counts1 = pd.DataFrame(counts_dict[key],columns=[0,10,20,40])\n",
    "counts1 = counts1.astype(int)\n",
    "counts1.insert(0,'Collision Energy',[0,10,20,40])\n",
    "\n",
    "print(f'')\n",
    "print(sims1.head())\n",
    "print('\\n')\n",
    "print(counts1.head())"
   ]
  },
  {
   "cell_type": "code",
   "execution_count": null,
   "metadata": {},
   "outputs": [],
   "source": [
    "gbc_res = pd.read_pickle('/Users/jonahpoczobutt/projects/TunaRes/test/intermediateOutputs/gbc_res/model_aucs_10_ppm.pkl')\n",
    "gbc_res['name']=[i.split('_')[0] for i in gbc_res['name']]\n",
    "grouped = gbc_res.groupby('name').mean()\n",
    "grouped"
   ]
  },
  {
   "cell_type": "code",
   "execution_count": null,
   "metadata": {},
   "outputs": [],
   "source": [
    "ind_aucs = pd.read_pickle('/Users/jonahpoczobutt/projects/TunaRes/test/intermediateOutputs/gbc_res/ind_aucs.pkl')\n",
    "ind_aucs"
   ]
  },
  {
   "cell_type": "code",
   "execution_count": null,
   "metadata": {},
   "outputs": [],
   "source": [
    "trained_toFunc = pd.read_pickle('/Users/jonahpoczobutt/projects/TunaRes/test/intermediateOutputs/train_to_func/trained_reses_10_ppm.pkl')\n",
    "test_toFunc = pd.read_pickle('/Users/jonahpoczobutt/projects/TunaRes/test/intermediateOutputs/train_to_func/test_reses_10_ppm.pkl')"
   ]
  },
  {
   "cell_type": "code",
   "execution_count": null,
   "metadata": {},
   "outputs": [],
   "source": [
    "for i in trained_toFunc[0].columns:\n",
    "    print(f\"{i.split('_')[0]}: {round(np.mean(trained_toFunc[0][i]),2)} {round(np.mean(test_toFunc[0][i]),2)}\")"
   ]
  },
  {
   "cell_type": "code",
   "execution_count": null,
   "metadata": {},
   "outputs": [],
   "source": [
    "trained_toFunc[0]"
   ]
  },
  {
   "cell_type": "code",
   "execution_count": null,
   "metadata": {},
   "outputs": [],
   "source": []
  }
 ],
 "metadata": {
  "kernelspec": {
   "display_name": "base",
   "language": "python",
   "name": "python3"
  },
  "language_info": {
   "codemirror_mode": {
    "name": "ipython",
    "version": 3
   },
   "file_extension": ".py",
   "mimetype": "text/x-python",
   "name": "python",
   "nbconvert_exporter": "python",
   "pygments_lexer": "ipython3",
   "version": "3.11.7"
  }
 },
 "nbformat": 4,
 "nbformat_minor": 2
}
