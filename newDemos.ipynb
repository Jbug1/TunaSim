{
 "cells": [
  {
   "cell_type": "code",
   "execution_count": 1,
   "metadata": {},
   "outputs": [],
   "source": [
    "import TunaSims\n",
    "import numpy as np\n",
    "from funcOb import func_ob\n",
    "import pandas as pd\n",
    "import tools_fast"
   ]
  },
  {
   "cell_type": "code",
   "execution_count": 2,
   "metadata": {},
   "outputs": [],
   "source": [
    "def harmonic_mean_distance(p, q):\n",
    "    r\"\"\"\n",
    "    Harmonic mean distance:\n",
    "\n",
    "    .. math::\n",
    "\n",
    "        1-2\\sum(\\frac{P_{i}Q_{i}}{P_{i}+Q_{i}})\n",
    "    \"\"\"\n",
    "    return 2 * np.sum(p * q / (p + q))\n",
    "\n",
    "def lorentzian_distance(p, q):\n",
    "    r\"\"\"\n",
    "    Lorentzian distance:\n",
    "\n",
    "    .. math::\n",
    "\n",
    "        \\sum{\\ln(1+|P_i-Q_i|)}\n",
    "    \"\"\"\n",
    "    return np.sum(np.log(1 + np.abs(p - q)))\n",
    "\n",
    "def matusita_distance(p, q):\n",
    "    r\"\"\"\n",
    "    Matusita distance:\n",
    "\n",
    "    .. math::\n",
    "\n",
    "        \\sqrt{\\sum(\\sqrt{P_{i}}-\\sqrt{Q_{i}})^2}\n",
    "    \"\"\"\n",
    "    return np.sum(np.power(np.sqrt(p) - np.sqrt(q), 2))\n",
    "\n",
    "def probabilistic_symmetric_chi_squared_distance(p, q):\n",
    "    r\"\"\"\n",
    "    Probabilistic symmetric χ2 distance:\n",
    "\n",
    "    .. math::\n",
    "\n",
    "        \\frac{1}{2} \\times \\sum\\frac{(P_{i}-Q_{i}\\ )^2}{P_{i}+Q_{i}\\ }\n",
    "    \"\"\"\n",
    "    return 1 / 2 * np.sum(np.power(p - q, 2) / (p + q))\n",
    "\n",
    "def sigmoid(z):\n",
    "    \n",
    "        return 1/(1 + np.exp(-z))\n"
   ]
  },
  {
   "cell_type": "code",
   "execution_count": 3,
   "metadata": {},
   "outputs": [],
   "source": [
    "query = np.array([[1,10.],[2,50.]])\n",
    "target = np.array([[1,20.],[2,40.]])"
   ]
  },
  {
   "cell_type": "code",
   "execution_count": 4,
   "metadata": {},
   "outputs": [],
   "source": [
    "harmonic_mean = TunaSims.ExpandedTuna(query_normalized_intensity_a = 1,\n",
    "                                  target_normalized_intensity_a = 1,\n",
    "                                  sigmoid_score = False,\n",
    "                                  mult_a = 2,\n",
    "                                  add_norm_b = 1)\n",
    "\n",
    "prob = TunaSims.ExpandedTuna(query_normalized_intensity_a = 1,\n",
    "                                  target_normalized_intensity_a = 1,\n",
    "                                  sigmoid_score = False,\n",
    "                                  dif_a = 1/2,\n",
    "                                  dif_b = 2,\n",
    "                                  add_norm_b = 1)"
   ]
  },
  {
   "cell_type": "code",
   "execution_count": 5,
   "metadata": {},
   "outputs": [
    {
     "name": "stdout",
     "output_type": "stream",
     "text": [
      "harmonic_mean: 2.2075794303688667e-08\n",
      "Chisquare: -3.449342873829142e-09\n"
     ]
    }
   ],
   "source": [
    "print(f'harmonic_mean: {harmonic_mean.predict(query, target) - harmonic_mean_distance(query[:,1]/sum(query[:,1]), target[:,1]/sum(target[:,1]))}')\n",
    "print(f'Chisquare: {prob.predict(query, target) - probabilistic_symmetric_chi_squared_distance(query[:,1]/sum(query[:,1]), target[:,1]/sum(target[:,1]))}')"
   ]
  },
  {
   "cell_type": "code",
   "execution_count": 16,
   "metadata": {},
   "outputs": [],
   "source": [
    "demo_matches = pd.read_pickle('/Users/jonahpoczobutt/projects/TunaRes/metlinGnps_NIST20_matchedPol/intermediateOutputs/splitMatches/train/10_ppm/chunk_1.pkl')\n",
    "#demo_matches['score'] = 1 - demo_matches['InchiCoreMatch']\n",
    "matched_scores = list()\n",
    "for i in range(len(demo_matches)):\n",
    "    \n",
    "    matched = tools_fast.match_spectrum(demo_matches.iloc[i]['query'], demo_matches.iloc[i]['target'], ms2_da = 0.05)\n",
    "    matched_scores.append(sigmoid(harmonic_mean_distance(matched[:,1]/sum(matched[:,1]), matched[:,2]/sum(matched[:,2]))))\n",
    "\n",
    "\n",
    "demo_matches['score'] = matched_scores\n",
    "\n"
   ]
  },
  {
   "cell_type": "code",
   "execution_count": 27,
   "metadata": {},
   "outputs": [],
   "source": [
    "init_vals = {\n",
    "    'mult_a' : 10,\n",
    "    'add_norm_b' : 0,\n",
    "    'add_norm_a': 0.5,\n",
    "    'query_normalized_intensity_a': 1.0,\n",
    "    'target_normalized_intensity_a': 1.0,\n",
    "}\n",
    "\n",
    "fixed_vals = {'sigmoid_score' : True,           \n",
    "    }\n",
    "\n",
    "bounds = {'add_norm_b': (0, 2),\n",
    "          'add_norm_a': (0, 3)}\n",
    "\n",
    "testerooni = func_ob('teesterooni',\n",
    "                     sim_func = TunaSims.ExpandedTuna,\n",
    "                     init_vals = init_vals,\n",
    "                     fixed_vals = fixed_vals,\n",
    "                     bounds = bounds,\n",
    "                     max_iter = 100000,\n",
    "                     lambdas = 2)"
   ]
  },
  {
   "cell_type": "code",
   "execution_count": 28,
   "metadata": {},
   "outputs": [
    {
     "name": "stdout",
     "output_type": "stream",
     "text": [
      "completed 10000 iterations\n",
      "9.927692857888239\n",
      "1.4018383966179075\n",
      "0.9999999670697464\n",
      "completed 20000 iterations\n",
      "9.92769286119017\n",
      "1.4018384005209774\n",
      "0.9999999140885301\n",
      "completed 30000 iterations\n",
      "9.927692862026849\n",
      "1.4018384850700667\n",
      "0.9999999707239273\n",
      "completed 40000 iterations\n",
      "9.927692860077459\n",
      "1.4018384873257586\n",
      "0.9999999512182258\n",
      "completed 50000 iterations\n",
      "9.927692853730544\n",
      "1.4018385038467431\n",
      "1.0000001652463468\n",
      "completed 60000 iterations\n",
      "9.927692859084528\n",
      "1.4018384707243818\n",
      "1.0000000617791964\n",
      "completed 70000 iterations\n",
      "9.927692860393202\n",
      "1.4018385004324303\n",
      "1.0000000463699148\n",
      "completed 80000 iterations\n",
      "9.927692861737912\n",
      "1.4018385192035507\n",
      "0.9999999513833372\n",
      "completed 90000 iterations\n",
      "9.927692863671304\n",
      "1.4018385281716899\n",
      "0.9999999940302529\n",
      "completed 100000 iterations\n",
      "9.927692860039048\n",
      "1.401838570301616\n",
      "1.00000002396219\n"
     ]
    }
   ],
   "source": [
    "testerooni.fit(demo_matches, verbose = 10000)\n"
   ]
  },
  {
   "cell_type": "code",
   "execution_count": null,
   "metadata": {},
   "outputs": [],
   "source": [
    "testerooni.sim_func.query_intensity_int"
   ]
  },
  {
   "cell_type": "code",
   "execution_count": null,
   "metadata": {},
   "outputs": [],
   "source": [
    "testerooni.sim_func.grads1_score_agg"
   ]
  },
  {
   "cell_type": "code",
   "execution_count": null,
   "metadata": {},
   "outputs": [],
   "source": [
    "demo_matches.iloc[522]\n",
    "matched = tools_fast.match_spectrum(demo_matches.iloc[522]['query'], demo_matches.iloc[522]['target'], ms2_da = 0.05)\n",
    "harmonic_mean_distance(matched[:,1]/sum(matched[:,1]), matched[:,2]/sum(matched[:,2]))"
   ]
  },
  {
   "cell_type": "code",
   "execution_count": null,
   "metadata": {},
   "outputs": [],
   "source": [
    "len(matched)"
   ]
  },
  {
   "cell_type": "code",
   "execution_count": null,
   "metadata": {},
   "outputs": [],
   "source": [
    "sum(testerooni.sim_func.expanded_mults/testerooni.sim_func.add_norm)"
   ]
  },
  {
   "cell_type": "code",
   "execution_count": null,
   "metadata": {},
   "outputs": [],
   "source": [
    "testerooni.pred_val, testerooni2.pred_val"
   ]
  },
  {
   "cell_type": "code",
   "execution_count": null,
   "metadata": {},
   "outputs": [],
   "source": [
    "testerooni.sim_func.mult_a"
   ]
  },
  {
   "cell_type": "code",
   "execution_count": null,
   "metadata": {},
   "outputs": [],
   "source": [
    "testerooni.sim_func.add_norm_b"
   ]
  },
  {
   "cell_type": "code",
   "execution_count": null,
   "metadata": {},
   "outputs": [],
   "source": []
  }
 ],
 "metadata": {
  "kernelspec": {
   "display_name": "base",
   "language": "python",
   "name": "python3"
  },
  "language_info": {
   "codemirror_mode": {
    "name": "ipython",
    "version": 3
   },
   "file_extension": ".py",
   "mimetype": "text/x-python",
   "name": "python",
   "nbconvert_exporter": "python",
   "pygments_lexer": "ipython3",
   "version": "3.11.7"
  }
 },
 "nbformat": 4,
 "nbformat_minor": 2
}
