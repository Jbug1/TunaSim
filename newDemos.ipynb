{
 "cells": [
  {
   "cell_type": "code",
   "execution_count": 1,
   "metadata": {},
   "outputs": [],
   "source": [
    "import TunaSims\n",
    "import numpy as np"
   ]
  },
  {
   "cell_type": "code",
   "execution_count": 2,
   "metadata": {},
   "outputs": [],
   "source": [
    "query = np.array([[1,10],[2,50]])\n",
    "target = np.array([[1,20],[2,40]])"
   ]
  },
  {
   "cell_type": "code",
   "execution_count": 3,
   "metadata": {},
   "outputs": [],
   "source": [
    "test_func = TunaSims.ExpandedTuna(query_intensity_a = 1,\n",
    "                                  target_intensity_a = 1,\n",
    "                                  query_mz_a = 1,\n",
    "                                  target_mz_a = 1,\n",
    "                                  sigmoid_score = False,\n",
    "                                  dif_a=1)"
   ]
  },
  {
   "cell_type": "code",
   "execution_count": 4,
   "metadata": {},
   "outputs": [
    {
     "name": "stderr",
     "output_type": "stream",
     "text": [
      "/Users/jonahpoczobutt/projects/TunaSim/TunaSims.py:220: RuntimeWarning: invalid value encountered in divide\n",
      "  self.grads1_agg_int['mult_a'] = np.sum(expanded_mults / (self.mult_a * add_norm))\n"
     ]
    },
    {
     "data": {
      "text/plain": [
       "20.0"
      ]
     },
     "execution_count": 4,
     "metadata": {},
     "output_type": "execute_result"
    }
   ],
   "source": [
    "test_func.predict(query, target)"
   ]
  },
  {
   "cell_type": "code",
   "execution_count": 7,
   "metadata": {},
   "outputs": [
    {
     "data": {
      "text/plain": [
       "{'mz_query_a': array([1., 2.], dtype=float32),\n",
       " 'mz_target_a': array([1., 2.], dtype=float32),\n",
       " 'intensity_query_a': array([10., 50.], dtype=float32),\n",
       " 'intensity_target_a': array([20., 40.], dtype=float32)}"
      ]
     },
     "execution_count": 7,
     "metadata": {},
     "output_type": "execute_result"
    }
   ],
   "source": [
    "test_func.grads1_int_param"
   ]
  },
  {
   "cell_type": "code",
   "execution_count": 8,
   "metadata": {},
   "outputs": [
    {
     "data": {
      "text/plain": [
       "{'dif_a': 20.0,\n",
       " 'mult_a': nan,\n",
       " 'dif_b': 46.05170440673828,\n",
       " 'mult_b': 0.0,\n",
       " 'add_a': -1260.0,\n",
       " 'add_b': -80.09031}"
      ]
     },
     "execution_count": 8,
     "metadata": {},
     "output_type": "execute_result"
    }
   ],
   "source": [
    "test_func.grads1_agg_int"
   ]
  },
  {
   "cell_type": "code",
   "execution_count": null,
   "metadata": {},
   "outputs": [],
   "source": []
  },
  {
   "cell_type": "markdown",
   "metadata": {},
   "source": []
  }
 ],
 "metadata": {
  "kernelspec": {
   "display_name": "base",
   "language": "python",
   "name": "python3"
  },
  "language_info": {
   "codemirror_mode": {
    "name": "ipython",
    "version": 3
   },
   "file_extension": ".py",
   "mimetype": "text/x-python",
   "name": "python",
   "nbconvert_exporter": "python",
   "pygments_lexer": "ipython3",
   "version": "3.11.7"
  }
 },
 "nbformat": 4,
 "nbformat_minor": 2
}
